{
 "cells": [
  {
   "cell_type": "code",
   "execution_count": 1,
   "metadata": {},
   "outputs": [],
   "source": [
    "import os\n",
    "import pandas as pd\n",
    "import numpy as np\n",
    "import geocoder\n",
    "import feather\n",
    "import re\n",
    "from collections import Counter"
   ]
  },
  {
   "cell_type": "code",
   "execution_count": 2,
   "metadata": {},
   "outputs": [],
   "source": [
    "train = pd.read_csv('../input/train.csv')\n",
    "target = train[\"賃料\"]\n",
    "train = train.drop(\"賃料\", axis=1)\n",
    "test = pd.read_csv('../input/test.csv')\n",
    "\n",
    "train_length = train.shape[0]\n",
    "test_length = test.shape[0]\n",
    "all_df = pd.concat([train, test], axis=0, ignore_index=True)"
   ]
  },
  {
   "cell_type": "code",
   "execution_count": 3,
   "metadata": {},
   "outputs": [
    {
     "data": {
      "text/plain": [
       "Index(['id', '所在地', 'アクセス', '間取り', '築年数', '方角', '面積', '所在階', 'バス・トイレ', 'キッチン',\n",
       "       '放送・通信', '室内設備', '駐車場', '周辺環境', '建物構造', '契約期間'],\n",
       "      dtype='object')"
      ]
     },
     "execution_count": 3,
     "metadata": {},
     "output_type": "execute_result"
    }
   ],
   "source": [
    "org_columns = all_df.columns\n",
    "org_columns"
   ]
  },
  {
   "cell_type": "code",
   "execution_count": 4,
   "metadata": {},
   "outputs": [],
   "source": [
    "def pickup_words(df_input, column):\n",
    "    '''\n",
    "    単語を分割してCounterに突っ込むことで、単語のリスト + 単語の出現頻度GET\n",
    "    '''\n",
    "    all_df[column] = all_df[column].fillna(\"\")\n",
    "    word_lists = [i.split(\"／\\t\") for i in all_df[column]]\n",
    "    words = []\n",
    "    for i in word_lists:\n",
    "        for w in i:\n",
    "            words.append(w)\n",
    "    my_counter = Counter(words)\n",
    "    tmp_common = my_counter.most_common()\n",
    "    tmp = my_counter.keys()\n",
    "    return tmp_common"
   ]
  },
  {
   "cell_type": "code",
   "execution_count": 5,
   "metadata": {},
   "outputs": [],
   "source": [
    "tv_net_words = pickup_words(all_df, \"放送・通信\")\n",
    "tv_net_words = [word[0] for word in tv_net_words]\n",
    "tv_net_words.remove('')\n",
    "#tv_net_words"
   ]
  },
  {
   "cell_type": "code",
   "execution_count": 6,
   "metadata": {},
   "outputs": [],
   "source": [
    "bathroom_words = pickup_words(all_df, \"バス・トイレ\")\n",
    "bathroom_words = [re.sub(r'\\t', \"\", word[0]) for word in bathroom_words]\n",
    "bathroom_words = list(set(bathroom_words))\n",
    "bathroom_words.remove('')\n",
    "#bathroom_words"
   ]
  },
  {
   "cell_type": "code",
   "execution_count": 7,
   "metadata": {},
   "outputs": [],
   "source": [
    "tmp_room_facilities_words = pickup_words(all_df, \"室内設備\")\n",
    "tmp_room_facilities_words = [word[0].split(\"\\t\") for word in tmp_room_facilities_words]\n",
    "room_facilities_words = []\n",
    "for i in tmp_room_facilities_words:\n",
    "    for w in i:\n",
    "        room_facilities_words.append(w)\n",
    "room_facilities_words = list(set(room_facilities_words))\n",
    "room_facilities_words.remove('')\n",
    "#room_facilities_words"
   ]
  },
  {
   "cell_type": "code",
   "execution_count": 8,
   "metadata": {},
   "outputs": [],
   "source": [
    "kitchen_words = pickup_words(all_df, \"キッチン\")\n",
    "kitchen_words = [word[0].split(\"\\t\")[0] for word in kitchen_words]\n",
    "kitchen_words.remove(\"\")\n",
    "kitchen_words = list(set(kitchen_words))\n",
    "\n",
    "konro_list = [w for w in kitchen_words if (\"設置可\" and \"口\" in w)]\n",
    "kitchen_words = [w for w in kitchen_words if w not in konro_list]"
   ]
  },
  {
   "cell_type": "code",
   "execution_count": 9,
   "metadata": {},
   "outputs": [],
   "source": [
    "access = pickup_words(all_df, \"アクセス\")"
   ]
  },
  {
   "cell_type": "markdown",
   "metadata": {},
   "source": [
    "## 特量df 作り"
   ]
  },
  {
   "cell_type": "code",
   "execution_count": 10,
   "metadata": {},
   "outputs": [],
   "source": [
    "def word_contain_feature(df_input, column, word_list):\n",
    "    df_out = pd.DataFrame()\n",
    "    for word in word_list:\n",
    "        df_out[f\"has_{word}_in_{column}\"] = np.where(all_df[column].str.contains(word), 1, 0)\n",
    "        \n",
    "    return df_out"
   ]
  },
  {
   "cell_type": "code",
   "execution_count": 11,
   "metadata": {},
   "outputs": [],
   "source": [
    "word_columns = [\"バス・トイレ\", \"放送・通信\", \"室内設備\", \"キッチン\"]\n",
    "pickup_word_list = [bathroom_words, tv_net_words, room_facilities_words, kitchen_words]\n",
    "\n",
    "all_df_feature = pd.concat([word_contain_feature(all_df, column, word_list) for column, word_list \n",
    "                    in zip(word_columns, pickup_word_list)], axis=1)"
   ]
  },
  {
   "cell_type": "code",
   "execution_count": 12,
   "metadata": {},
   "outputs": [],
   "source": [
    "a = np.full_like(all_df[\"キッチン\"].values, np.nan)\n",
    "for w in [\"1\", \"2\", \"3\", \"4\", \"不明\"]:\n",
    "    if w == \"不明\":\n",
    "        continue\n",
    "    a = np.where(all_df[\"キッチン\"].str.contains(w), int(w), a)\n",
    "all_df_feature[\"num_conro\"] = a"
   ]
  },
  {
   "cell_type": "code",
   "execution_count": 13,
   "metadata": {},
   "outputs": [],
   "source": [
    "from sklearn.feature_extraction.text import TfidfVectorizer\n",
    "from sklearn.cluster import KMeans\n",
    "vectorizer = TfidfVectorizer(use_idf=True, token_pattern=u'(?u)\\\\b\\\\w+\\\\b')"
   ]
  },
  {
   "cell_type": "code",
   "execution_count": 14,
   "metadata": {},
   "outputs": [],
   "source": [
    "from sklearn.decomposition import NMF\n",
    "\n",
    "def NMF_ana(matrix,n_c):\n",
    "    model = NMF(n_components=n_c, init='random', random_state=0) # n_componentsで特徴の次元を指定\n",
    "    W = model.fit_transform(matrix) # 学習\n",
    "    V = model.components_\n",
    "    return W,V\n",
    "\n",
    "def clean_kitchen(text):\n",
    "    if type(text)==float:\n",
    "        return None\n",
    "    else:\n",
    "        text = re.sub(\"コンロ設置可\", \"\", text)\n",
    "        return text"
   ]
  },
  {
   "cell_type": "code",
   "execution_count": 15,
   "metadata": {},
   "outputs": [],
   "source": [
    "bath_vecs = vectorizer.fit_transform(all_df[\"バス・トイレ\"])\n",
    "df_bath_tfidf = pd.DataFrame(bath_vecs.toarray(), columns=vectorizer.get_feature_names())\n",
    "df_bath_tfidf.drop(\"バス\", axis=1).head()\n",
    "df_bath = pd.DataFrame(NMF_ana(df_bath_tfidf, 4)[0], columns=[f\"bath_NMF_{i}\" for i in range(4)])"
   ]
  },
  {
   "cell_type": "code",
   "execution_count": 16,
   "metadata": {},
   "outputs": [],
   "source": [
    "kitch_vecs = vectorizer.fit_transform(all_df[\"キッチン\"].apply(lambda x:clean_kitchen(x)))\n",
    "df_kitch_tfidf = pd.DataFrame(kitch_vecs.toarray(), columns=vectorizer.get_feature_names())\n",
    "df_kitch = pd.DataFrame(NMF_ana(df_kitch_tfidf, 4)[0], columns=[f\"kitch_NMF_{i}\" for i in range(4)])"
   ]
  },
  {
   "cell_type": "code",
   "execution_count": 17,
   "metadata": {},
   "outputs": [],
   "source": [
    "room_vecs = vectorizer.fit_transform(all_df[\"室内設備\"])\n",
    "df_room_tfidf = pd.DataFrame(room_vecs.toarray(), columns=vectorizer.get_feature_names())\n",
    "df_room = pd.DataFrame(NMF_ana(df_room_tfidf, 5)[0], columns=[f\"room_NMF_{i}\" for i in range(5)])"
   ]
  },
  {
   "cell_type": "code",
   "execution_count": 18,
   "metadata": {},
   "outputs": [],
   "source": [
    "cast_vecs = vectorizer.fit_transform(all_df[\"放送・通信\"])\n",
    "df_cast_tfidf = pd.DataFrame(cast_vecs.toarray(), columns=vectorizer.get_feature_names())\n",
    "df_cast = pd.DataFrame(NMF_ana(df_cast_tfidf, 3)[0], columns=[f\"cast_NMF_{i}\" for i in range(3)])"
   ]
  },
  {
   "cell_type": "code",
   "execution_count": 19,
   "metadata": {},
   "outputs": [],
   "source": [
    "import gensim\n",
    "model = gensim.models.KeyedVectors.load_word2vec_format('model.vec', binary=False)\n",
    "strs = all_df[[\"所在地\", \"方角\", \"駐車場\", \"バス・トイレ\", \"キッチン\", \"室内設備\", \"周辺環境\", \"建物構造\", \"契約期間\"]].astype(str).sum(axis=1)\n"
   ]
  },
  {
   "cell_type": "code",
   "execution_count": 20,
   "metadata": {},
   "outputs": [],
   "source": [
    "df_access = feather.read_dataframe(\"../code/feature_csv/access_feature.feather\")"
   ]
  },
  {
   "cell_type": "code",
   "execution_count": 21,
   "metadata": {},
   "outputs": [],
   "source": [
    "df_access = df_access[['路線_0', '駅_0', '路線_1', '駅_1', '路線_2', '駅_2']].astype(str)\n",
    "df_access[['路線_0', '駅_0', '路線_1', '駅_1', '路線_2']] = pd.concat([df_access[col] + \",\" for col in ['路線_0', '駅_0', '路線_1', '駅_1', '路線_2']],axis=1)"
   ]
  },
  {
   "cell_type": "code",
   "execution_count": 22,
   "metadata": {},
   "outputs": [],
   "source": [
    "vectorizer = TfidfVectorizer()#(use_idf=True)#, token_pattern=u'(?u)\\\\b\\\\w+\\\\b')\n",
    "eki_str = df_access.sum(axis=1)\n",
    "eki_vecs = vectorizer.fit_transform(eki_str)\n",
    "\n",
    "df_eki_tfidf = pd.DataFrame(eki_vecs.toarray(), columns=vectorizer.get_feature_names())\n",
    "df_eki = pd.DataFrame(NMF_ana(df_eki_tfidf, 5)[0], columns=[f\"eki_NMF_{i}\" for i in range(5)])"
   ]
  },
  {
   "cell_type": "code",
   "execution_count": 23,
   "metadata": {},
   "outputs": [
    {
     "data": {
      "text/plain": [
       "Index(['has_共同バス_in_バス・トイレ', 'has_浴室乾燥機_in_バス・トイレ', 'has_シャワー_in_バス・トイレ',\n",
       "       'has_専用トイレ_in_バス・トイレ', 'has_トイレなし_in_バス・トイレ', 'has_バスなし_in_バス・トイレ',\n",
       "       'has_温水洗浄便座_in_バス・トイレ', 'has_脱衣所_in_バス・トイレ', 'has_共同トイレ_in_バス・トイレ',\n",
       "       'has_追焚機能_in_バス・トイレ', 'has_専用バス_in_バス・トイレ', 'has_洗面台独立_in_バス・トイレ',\n",
       "       'has_バス・トイレ別_in_バス・トイレ', 'has_インターネット対応_in_放送・通信',\n",
       "       'has_光ファイバー_in_放送・通信', 'has_BSアンテナ_in_放送・通信', 'has_CATV_in_放送・通信',\n",
       "       'has_CSアンテナ_in_放送・通信', 'has_インターネット使用料無料_in_放送・通信',\n",
       "       'has_高速インターネット_in_放送・通信', 'has_有線放送_in_放送・通信', 'has_オール電化_in_室内設備',\n",
       "       'has_ガスその他_in_室内設備', 'has_冷房_in_室内設備', 'has_3面採光_in_室内設備',\n",
       "       'has_二世帯住宅_in_室内設備', 'has_敷地内ごみ置き場_in_室内設備', 'has_浄化槽_in_室内設備',\n",
       "       'has_タイル張り_in_室内設備', 'has_洗濯機置場なし_in_室内設備', 'has_汲み取り_in_室内設備',\n",
       "       'has_床下収納_in_室内設備', 'has_都市ガス_in_室内設備', 'has_地下室_in_室内設備',\n",
       "       'has_防音室_in_室内設備', 'has_排水その他_in_室内設備', 'has_出窓_in_室内設備',\n",
       "       'has_プロパンガス_in_室内設備', 'has_室内洗濯機置場_in_室内設備', 'has_バリアフリー_in_室内設備',\n",
       "       'has_エレベーター_in_室内設備', 'has_床暖房_in_室内設備', 'has_エアコン付_in_室内設備',\n",
       "       'has_2面採光_in_室内設備', 'has_バルコニー_in_室内設備', 'has_石油暖房_in_室内設備',\n",
       "       'has_ガス暖房_in_室内設備', 'has_二重サッシ_in_室内設備', 'has_フローリング_in_室内設備',\n",
       "       'has_ペアガラス_in_室内設備', 'has_ルーフバルコニー_in_室内設備', 'has_専用庭_in_室内設備',\n",
       "       'has_水道その他_in_室内設備', 'has_室外洗濯機置場_in_室内設備', 'has_井戸_in_室内設備',\n",
       "       'has_シューズボックス_in_室内設備', 'has_クッションフロア_in_室内設備', 'has_トランクルーム_in_室内設備',\n",
       "       'has_公営水道_in_室内設備', 'has_24時間換気システム_in_室内設備', 'has_ロフト付き_in_室内設備',\n",
       "       'has_ウォークインクローゼット_in_室内設備', 'has_下水_in_室内設備', 'has_IHコンロ_in_キッチン',\n",
       "       'has_給湯_in_キッチン', 'has_システムキッチン_in_キッチン', 'has_冷蔵庫あり_in_キッチン',\n",
       "       'has_独立キッチン_in_キッチン', 'has_電気コンロ_in_キッチン', 'has_L字キッチン_in_キッチン',\n",
       "       'has_ガスコンロ_in_キッチン', 'has_カウンターキッチン_in_キッチン', 'num_conro'],\n",
       "      dtype='object')"
      ]
     },
     "execution_count": 23,
     "metadata": {},
     "output_type": "execute_result"
    }
   ],
   "source": [
    "all_df_feature.columns"
   ]
  },
  {
   "cell_type": "code",
   "execution_count": 24,
   "metadata": {},
   "outputs": [],
   "source": [
    "all_df_feature = pd.concat([all_df_feature, df_bath, df_cast, df_eki, df_kitch, df_room], axis=1)"
   ]
  },
  {
   "cell_type": "code",
   "execution_count": 25,
   "metadata": {},
   "outputs": [
    {
     "data": {
      "text/plain": [
       "Index(['has_共同バス_in_バス・トイレ', 'has_浴室乾燥機_in_バス・トイレ', 'has_シャワー_in_バス・トイレ',\n",
       "       'has_専用トイレ_in_バス・トイレ', 'has_トイレなし_in_バス・トイレ', 'has_バスなし_in_バス・トイレ',\n",
       "       'has_温水洗浄便座_in_バス・トイレ', 'has_脱衣所_in_バス・トイレ', 'has_共同トイレ_in_バス・トイレ',\n",
       "       'has_追焚機能_in_バス・トイレ', 'has_専用バス_in_バス・トイレ', 'has_洗面台独立_in_バス・トイレ',\n",
       "       'has_バス・トイレ別_in_バス・トイレ', 'has_インターネット対応_in_放送・通信',\n",
       "       'has_光ファイバー_in_放送・通信', 'has_BSアンテナ_in_放送・通信', 'has_CATV_in_放送・通信',\n",
       "       'has_CSアンテナ_in_放送・通信', 'has_インターネット使用料無料_in_放送・通信',\n",
       "       'has_高速インターネット_in_放送・通信', 'has_有線放送_in_放送・通信', 'has_オール電化_in_室内設備',\n",
       "       'has_ガスその他_in_室内設備', 'has_冷房_in_室内設備', 'has_3面採光_in_室内設備',\n",
       "       'has_二世帯住宅_in_室内設備', 'has_敷地内ごみ置き場_in_室内設備', 'has_浄化槽_in_室内設備',\n",
       "       'has_タイル張り_in_室内設備', 'has_洗濯機置場なし_in_室内設備', 'has_汲み取り_in_室内設備',\n",
       "       'has_床下収納_in_室内設備', 'has_都市ガス_in_室内設備', 'has_地下室_in_室内設備',\n",
       "       'has_防音室_in_室内設備', 'has_排水その他_in_室内設備', 'has_出窓_in_室内設備',\n",
       "       'has_プロパンガス_in_室内設備', 'has_室内洗濯機置場_in_室内設備', 'has_バリアフリー_in_室内設備',\n",
       "       'has_エレベーター_in_室内設備', 'has_床暖房_in_室内設備', 'has_エアコン付_in_室内設備',\n",
       "       'has_2面採光_in_室内設備', 'has_バルコニー_in_室内設備', 'has_石油暖房_in_室内設備',\n",
       "       'has_ガス暖房_in_室内設備', 'has_二重サッシ_in_室内設備', 'has_フローリング_in_室内設備',\n",
       "       'has_ペアガラス_in_室内設備', 'has_ルーフバルコニー_in_室内設備', 'has_専用庭_in_室内設備',\n",
       "       'has_水道その他_in_室内設備', 'has_室外洗濯機置場_in_室内設備', 'has_井戸_in_室内設備',\n",
       "       'has_シューズボックス_in_室内設備', 'has_クッションフロア_in_室内設備', 'has_トランクルーム_in_室内設備',\n",
       "       'has_公営水道_in_室内設備', 'has_24時間換気システム_in_室内設備', 'has_ロフト付き_in_室内設備',\n",
       "       'has_ウォークインクローゼット_in_室内設備', 'has_下水_in_室内設備', 'has_IHコンロ_in_キッチン',\n",
       "       'has_給湯_in_キッチン', 'has_システムキッチン_in_キッチン', 'has_冷蔵庫あり_in_キッチン',\n",
       "       'has_独立キッチン_in_キッチン', 'has_電気コンロ_in_キッチン', 'has_L字キッチン_in_キッチン',\n",
       "       'has_ガスコンロ_in_キッチン', 'has_カウンターキッチン_in_キッチン', 'num_conro', 'bath_NMF_0',\n",
       "       'bath_NMF_1', 'bath_NMF_2', 'bath_NMF_3', 'cast_NMF_0', 'cast_NMF_1',\n",
       "       'cast_NMF_2', 'eki_NMF_0', 'eki_NMF_1', 'eki_NMF_2', 'eki_NMF_3',\n",
       "       'eki_NMF_4', 'kitch_NMF_0', 'kitch_NMF_1', 'kitch_NMF_2', 'kitch_NMF_3',\n",
       "       'room_NMF_0', 'room_NMF_1', 'room_NMF_2', 'room_NMF_3', 'room_NMF_4'],\n",
       "      dtype='object')"
      ]
     },
     "execution_count": 25,
     "metadata": {},
     "output_type": "execute_result"
    }
   ],
   "source": [
    "all_df_feature.columns"
   ]
  },
  {
   "cell_type": "code",
   "execution_count": 26,
   "metadata": {},
   "outputs": [],
   "source": [
    "output_dir = '../code/feature_csv/'\n",
    "all_df_feature.to_feather(os.path.join(output_dir, 'word_contain_sparse_feature.feather'))"
   ]
  },
  {
   "cell_type": "code",
   "execution_count": null,
   "metadata": {},
   "outputs": [],
   "source": []
  }
 ],
 "metadata": {
  "kernelspec": {
   "display_name": "Python 3",
   "language": "python",
   "name": "python3"
  },
  "language_info": {
   "codemirror_mode": {
    "name": "ipython",
    "version": 3
   },
   "file_extension": ".py",
   "mimetype": "text/x-python",
   "name": "python",
   "nbconvert_exporter": "python",
   "pygments_lexer": "ipython3",
   "version": "3.6.5"
  }
 },
 "nbformat": 4,
 "nbformat_minor": 4
}
