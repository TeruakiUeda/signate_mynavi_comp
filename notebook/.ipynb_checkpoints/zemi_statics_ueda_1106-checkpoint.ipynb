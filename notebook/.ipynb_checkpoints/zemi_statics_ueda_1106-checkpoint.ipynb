{
 "cells": [
  {
   "cell_type": "markdown",
   "metadata": {},
   "source": [
    "## 手計算"
   ]
  },
  {
   "cell_type": "markdown",
   "metadata": {},
   "source": [
    "<pre>\n",
    "Z = (Xi-mu)/ sd\n",
    "\n",
    "標準正規分布表より上位20%の時の閾値はz=0.84\n",
    "Xi = 0.84*1.1+27\n",
    "   = 27.924\n",
    "   \n",
    "Z = (25.5 - 27.0) / 1.1\n",
    "  = -1.363\n",
    "\n",
    "標準正規分布表より8.7%"
   ]
  },
  {
   "cell_type": "markdown",
   "metadata": {},
   "source": [
    "## Python実装"
   ]
  },
  {
   "cell_type": "code",
   "execution_count": 50,
   "metadata": {},
   "outputs": [],
   "source": [
    "import numpy as np\n",
    "import matplotlib.pyplot as plt\n",
    "from scipy.stats import norm"
   ]
  },
  {
   "cell_type": "code",
   "execution_count": 79,
   "metadata": {},
   "outputs": [],
   "source": [
    "mu, sigma = 27, 1.21\n",
    "sd = sigma **(1/2)\n",
    "size = 1000000\n",
    "sample = np.random.normal(mu, sd, size)"
   ]
  },
  {
   "cell_type": "code",
   "execution_count": 86,
   "metadata": {},
   "outputs": [
    {
     "data": {
      "image/png": "[encoded data removed]",
      "text/plain": [
       "<Figure size 432x288 with 1 Axes>"
      ]
     },
     "metadata": {
      "needs_background": "light"
     },
     "output_type": "display_data"
    }
   ],
   "source": [
    "plt.hist(sample, bins = 50)\n",
    "plt.show()"
   ]
  },
  {
   "cell_type": "code",
   "execution_count": 81,
   "metadata": {},
   "outputs": [
    {
     "name": "stdout",
     "output_type": "stream",
     "text": [
      "上位20% : 27.926m\n"
     ]
    }
   ],
   "source": [
    "top_20percent = sorted(sample)[int(size*0.8):][0]\n",
    "print(f\"上位20% : {top_20percent.round(3)}m\")"
   ]
  },
  {
   "cell_type": "code",
   "execution_count": 82,
   "metadata": {},
   "outputs": [
    {
     "name": "stdout",
     "output_type": "stream",
     "text": [
      "前翅が25.5m以下の割合 : 8.6%\n"
     ]
    }
   ],
   "source": [
    "under = len(sample[sample < 25.5])\n",
    "print(f\"前翅が25.5m以下の割合 : {round(under / len(sample) * 100, 1)}%\")"
   ]
  }
 ],
 "metadata": {
  "kernelspec": {
   "display_name": "Python 3",
   "language": "python",
   "name": "python3"
  },
  "language_info": {
   "codemirror_mode": {
    "name": "ipython",
    "version": 3
   },
   "file_extension": ".py",
   "mimetype": "text/x-python",
   "name": "python",
   "nbconvert_exporter": "python",
   "pygments_lexer": "ipython3",
   "version": "3.6.5"
  }
 },
 "nbformat": 4,
 "nbformat_minor": 4
}
