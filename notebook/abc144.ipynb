{
 "cells": [
  {
   "cell_type": "code",
   "execution_count": 1,
   "metadata": {},
   "outputs": [],
   "source": [
    "#A"
   ]
  },
  {
   "cell_type": "code",
   "execution_count": 12,
   "metadata": {},
   "outputs": [
    {
     "name": "stdin",
     "output_type": "stream",
     "text": [
      " 59 59\n"
     ]
    },
    {
     "name": "stdout",
     "output_type": "stream",
     "text": [
      "-1\n"
     ]
    }
   ],
   "source": [
    "a,b = map(str, input().split())\n",
    "\n",
    "if len(a)==1 and len(b)==1:\n",
    "    print(int(a)*int(b))\n",
    "else:\n",
    "    print(-1)"
   ]
  },
  {
   "cell_type": "code",
   "execution_count": 2,
   "metadata": {},
   "outputs": [],
   "source": [
    "#B"
   ]
  },
  {
   "cell_type": "code",
   "execution_count": 16,
   "metadata": {},
   "outputs": [
    {
     "name": "stdin",
     "output_type": "stream",
     "text": [
      " 81\n"
     ]
    },
    {
     "name": "stdout",
     "output_type": "stream",
     "text": [
      "Yes\n"
     ]
    }
   ],
   "source": [
    "n = str(input())\n",
    "\n",
    "ans = []\n",
    "for i in range(1,10):\n",
    "    for j in range(1,10):\n",
    "        ans.append(str(i*j))\n",
    "if n in ans:\n",
    "    print(\"Yes\")\n",
    "else:\n",
    "    print(\"No\")"
   ]
  },
  {
   "cell_type": "code",
   "execution_count": 3,
   "metadata": {},
   "outputs": [],
   "source": [
    "#C"
   ]
  },
  {
   "cell_type": "code",
   "execution_count": 152,
   "metadata": {},
   "outputs": [
    {
     "name": "stdin",
     "output_type": "stream",
     "text": [
      " 63\n"
     ]
    },
    {
     "name": "stdout",
     "output_type": "stream",
     "text": [
      "21 3\n",
      "7 9\n",
      "14\n"
     ]
    }
   ],
   "source": [
    "n = int(input())\n",
    "\n",
    "def prime_factorize(n):\n",
    "    a = []\n",
    "    while n % 2 == 0:\n",
    "        a.append(2)\n",
    "        n //= 2\n",
    "    f = 3\n",
    "    while f * f <= n:\n",
    "        if n % f == 0:\n",
    "            a.append(f)\n",
    "            n //= f\n",
    "        else:\n",
    "            f += 2\n",
    "    if n != 1:\n",
    "        a.append(n)\n",
    "    return a\n",
    "\n",
    "soinsu = prime_factorize(n)\n",
    "\n",
    "\n",
    "soinsu.sort()\n",
    "if len(soinsu) ==1:\n",
    "    print(soinsu[0]-1)\n",
    "    \n",
    "else:\n",
    "    right = soinsu[-1]\n",
    "    left = soinsu[-2]\n",
    "\n",
    "\n",
    "    for i in range(len(soinsu)-2):\n",
    "        if i == 0:\n",
    "            right *= soinsu[i]\n",
    "        elif i % 2 == 0:\n",
    "            right *= soinsu[i]\n",
    "        elif i % 2 != 0:\n",
    "            left *= soinsu[i]\n",
    "    print(right, left)\n",
    "    ans = right + left -2\n",
    "    minimum = abs(left-right)\n",
    "\n",
    "    right = soinsu[-1]\n",
    "    left = soinsu[-2]\n",
    "\n",
    "    for i in range(len(soinsu)-2):\n",
    "        if i == 0:\n",
    "            left *= soinsu[i]\n",
    "        elif i % 2 == 0:\n",
    "            left *= soinsu[i]\n",
    "        elif i % 2 != 0:\n",
    "            right *= soinsu[i]\n",
    "    print(right, left)\n",
    "    if abs(left-right) < minimum:\n",
    "        print(left + right -2)\n",
    "    else:\n",
    "        print(ans)"
   ]
  },
  {
   "cell_type": "code",
   "execution_count": 153,
   "metadata": {},
   "outputs": [
    {
     "data": {
      "text/plain": [
       "[3, 3, 7]"
      ]
     },
     "execution_count": 153,
     "metadata": {},
     "output_type": "execute_result"
    }
   ],
   "source": [
    "soinsu"
   ]
  },
  {
   "cell_type": "code",
   "execution_count": 4,
   "metadata": {},
   "outputs": [],
   "source": [
    "#D"
   ]
  },
  {
   "cell_type": "code",
   "execution_count": 143,
   "metadata": {},
   "outputs": [
    {
     "name": "stdin",
     "output_type": "stream",
     "text": [
      " 12 21 10\n"
     ]
    },
    {
     "name": "stdout",
     "output_type": "stream",
     "text": [
      "89.78346369338755\n"
     ]
    }
   ],
   "source": [
    "import math\n",
    "a, b, x = map(int, input().split())\n",
    "\n",
    "if a*a*b/2 == x:\n",
    "    print(math.degrees(math.atan(b/a)))\n",
    "if a*a*b/2 > x:\n",
    "    print(math.degrees(math.atan(a*b*b/2/x)))\n",
    "if a*a*b/2 < x:\n",
    "    print(math.degrees(math.atan(2*(a*a*b-x)/a/a/a)))"
   ]
  },
  {
   "cell_type": "code",
   "execution_count": 1,
   "metadata": {},
   "outputs": [],
   "source": [
    "from sklearn.feature_extraction.text import TfidfVectorizer"
   ]
  },
  {
   "cell_type": "code",
   "execution_count": 9,
   "metadata": {},
   "outputs": [
    {
     "ename": "TypeError",
     "evalue": "fit() missing 1 required positional argument: 'raw_documents'",
     "output_type": "error",
     "traceback": [
      "\u001b[0;31m---------------------------------------------------------------------------\u001b[0m",
      "\u001b[0;31mTypeError\u001b[0m                                 Traceback (most recent call last)",
      "\u001b[0;32m<ipython-input-9-0e0c3ff4e29a>\u001b[0m in \u001b[0;36m<module>\u001b[0;34m\u001b[0m\n\u001b[0;32m----> 1\u001b[0;31m \u001b[0mvac\u001b[0m \u001b[0;34m=\u001b[0m \u001b[0mTfidfVectorizer\u001b[0m\u001b[0;34m.\u001b[0m\u001b[0mfit\u001b[0m\u001b[0;34m(\u001b[0m\u001b[0mtext\u001b[0m\u001b[0;34m)\u001b[0m\u001b[0;34m\u001b[0m\u001b[0m\n\u001b[0m",
      "\u001b[0;31mTypeError\u001b[0m: fit() missing 1 required positional argument: 'raw_documents'"
     ]
    }
   ],
   "source": [
    "vac = TfidfVectorizer.fit(text)"
   ]
  },
  {
   "cell_type": "code",
   "execution_count": 10,
   "metadata": {},
   "outputs": [],
   "source": [
    "text = \"\"\"一般的なよくある質問  \n",
    "        現在進行中のコンペの話をしていいの？\n",
    "\n",
    "        一般的には、public sharingはOK、（チーム外での）private sharingはNG。\n",
    "        public sharingは、KaggleのForumやKernel上で議論したり情報を公開したりすること。\n",
    "        private sharingは、参加者全員の目に入らない場所で情報交換すること、twitterやslack、メールや対面とか。\n",
    "        コードやデータはもちろん、アイデアや考察も良くない。\n",
    "        とはいえ、twitterで少しつぶやいたくらいで気づかれるわけではないので、良識に任されている\n",
    "        public leaderboardとprivate leaderboardってなに？\n",
    "\n",
    "        評価用データは２つに分けられている。\n",
    "        片方のデータへのスコアで順位が表示される。(public leaderboard)\n",
    "        残りのデータへのスコアで最終的な順位が決定される。(private leaderboard)\n",
    "        public leaderboardに過学習していると、privateで真っ逆さまということも\n",
    "        各コンペのLeaderboardのところに、\"This leaderboard is calculated with approximately 20% of the test data.\"のように割合が書かれている\n",
    "        btb(beat the benchmark)ってなに？\n",
    "\n",
    "        Kaggle Kernelに強くて優しい人が序盤においてくれる、基本的なことをやってそこそこのスコアが出るスクリプト\n",
    "        勉強になるので参考にすると良いです。これを自力で超えられれば初心者ではなさそう 。\n",
    "        何から始めれば良い？\n",
    "\n",
    "        次の順序でやってみましょう。簡単であれば飛ばして次の項目に行くのも一つの手です。\n",
    "        kaggle公式のチュートリアル(https://www.kaggle.com/learn/overview)\n",
    "        Titanic コンペ(https://www.kaggle.com/c/titanic/kernels?sortBy=voteCount&group=everyone&pageSize=20&competitionId=3136)\n",
    "        得票数などでカーネルを表示してみてトップの方のカーネルをforkして学んでみましょう\n",
    "        後はご自由に(ここまで来れば次に何をやるべきか分かるはず)。\n",
    "        コードを書き終わったらどうやって提出する？\n",
    "\n",
    "        kaggleのカーネル上でコードを使っている場合、画面の右上に”Commit”というボタンがあります。このボタンを押し、コミットが完了するのを待ちます。\n",
    "        終わったことが確認できたら、次は左上にある”< Note that InClass, playground, and getting started competitions do not award medals. (翻訳)InClass, playground, and getting startedコンペはメダルを受け取ることができません。\n",
    "        Featuredコンペなど、コンペの種類ってどこでわかるの？\n",
    "\n",
    "        Quora-insincere-questions-classificationを例に使います。\n",
    "\n",
    "        Topページを見てください、タイトル左上、下画像の赤色で囲った部分に書いてあります。\n",
    "        quora_top_.png\n",
    "        参考\n",
    "\n",
    "        How to use Kaggle - Common competition types\n",
    "        Qiita - KaggleのCompetitions Categoriesを整理してみた\n",
    "        Kaggleで勝つにはお金掛かるの？\n",
    "\n",
    "        ある程度マシンパワーがあった方が勝ちやすいのは事実\n",
    "        でもノートPCだけでMasterになった人もいる\n",
    "        画像系コンペ以外なら、GCPの無料クーポン$300＋preemptive instanceで十分\n",
    "        ローカルＰＣとクラウド、どちらを使うとよい？\n",
    "\n",
    "        どちらも長短あるが、特に初心者はローカルＰＣが１台あると良いと思う。\n",
    "        ローカルＰＣ\n",
    "        お金を気にせずに計算・試行錯誤できる\n",
    "        発熱・騒音・電気代の問題がある\n",
    "        ＰＣの購入という初期費用が必要\n",
    "        外出時にジョブ管理をしずらい\n",
    "        クラウド\n",
    "        スケールでき、お金を投入して計算を速くできるので、コンペ上位の時など助かる\n",
    "        発熱・騒音・電気代を気にしなくてよい\n",
    "        場所をとらない\n",
    "        初期投資は必要ないものの従量課金。クーポンが使えたりして安くすむ場合もある。\n",
    "        クラウドを使う場合、どこを使えば良いの？\n",
    "\n",
    "        kaggleのカーネル\n",
    "        無料、GPUを使用可能\n",
    "        PythonとＲを使用可能\n",
    "        公式の環境であり初めはここを使う人が多い。処理が遅いとか自由度が低いとかを感じると、他を使うことに。\n",
    "        公式のドキュメンテーションはこちら\n",
    "        Google Colabratory\n",
    "        無料で使えるGoogleが用意したJupyterノートブック環境、GPUを使用可能\n",
    "        Pythonのみ使用可能\n",
    "        作った特徴やモデルなどを保存して置く場合に、kaggleのkernelよりも柔軟に使えたりする\n",
    "        月数百円課金してディスクスペースを増やすと便利になる\n",
    "        処理速度はkaggleのカーネルとかわらないかも\n",
    "        Google Cloud Platform (GCP)\n",
    "        kagglerが使っているクラウドといえばこれ\n",
    "        preemptive インスタンスにすればたまに落ちるけど安い\n",
    "        課金によって、CPU・GPUを増やすなど自分が必要な計算資源を得られる\n",
    "        アマゾンウェブサービス (AWS)\n",
    "        有名なのは従量課金の仮想マシンサービスであるEC2\n",
    "        CPUやメモリに振ったもの、GPU付きのものなど様々なインスタンスタイプが存在\n",
    "        CudaやDeeplearningフレームワークが既にインストールされたマシンイメージ（Deep Leaning AMI）もある\n",
    "        スポットインスタンスにすればたまに落ちるけど安い\n",
    "        Jupyterノートブック環境作成、学習、デプロイを簡単に行えるサービスとしてSageMakerが登場した\n",
    "        技術的なよくある質問  \n",
    "        ハイパーパラメータの探索ってどうするの？\n",
    "\n",
    "        手動で頑張る\n",
    "        過去のコンペのカーネルから探してくる\n",
    "        hyperopt\n",
    "        gpyopt\n",
    "        Optuna\n",
    "        EDA(Exploratory Data Analysis - 可視化してデータを見ること)って何のためにやるの？\n",
    "\n",
    "        特徴量を作るため、気づきを得るため\n",
    "\n",
    "        気づきの例 - Quoraコンペで埋め込まれたグラフ特徴、氷山コンペでのリーク発見、Instacartコンペでの商品間の関連性、リクルートコンペでの予約対来客の比率が減衰すること\n",
    "        データの「構造」や「意味」を知る上でのEDAはしますが、「傾向」を掴むためのEDAにはそこまで力を入れないとか\n",
    "\n",
    "        Kaggle上の順位を上げるためであればEDAをせずに特徴量をどんどん作る方が有効かもしれないが、ビジネスでデータ分析をやることを考えると大事\n",
    "\n",
    "        EDAは何のツールでやるの？\n",
    "\n",
    "        jupyter notebookを使うことが多いか\n",
    "        ライブラリは、pythonだとmatplotlib, seabornなど、Rだとggplot2など\n",
    "        ディレクトリ構成どうするの？\n",
    "\n",
    "        Patterns for Research in Machine Learning\n",
    "        データサイエンスプロジェクトのディレクトリ構成どうするか問題\n",
    "        toshi_kさんの例\n",
    "        xgboostでカテゴリ変数をOne-Hot Encodingせずにそのまま入れていることがあるけど、いいの？\n",
    "\n",
    "        決定木なので不等式で２回分岐すれば等式が表現できること、xgboostの性能の高さから、わりと大丈夫\n",
    "        one hotはメモリ的に厳しい場合があるので、普通にlabel encodingだけでやってしまうことはままある\n",
    "        上記以外実際に#begginers-helpであった質問と回答はこちらにまとめております。\"\"\""
   ]
  },
  {
   "cell_type": "code",
   "execution_count": null,
   "metadata": {},
   "outputs": [],
   "source": []
  }
 ],
 "metadata": {
  "kernelspec": {
   "display_name": "Python 3",
   "language": "python",
   "name": "python3"
  },
  "language_info": {
   "codemirror_mode": {
    "name": "ipython",
    "version": 3
   },
   "file_extension": ".py",
   "mimetype": "text/x-python",
   "name": "python",
   "nbconvert_exporter": "python",
   "pygments_lexer": "ipython3",
   "version": "3.6.5"
  }
 },
 "nbformat": 4,
 "nbformat_minor": 4
}
