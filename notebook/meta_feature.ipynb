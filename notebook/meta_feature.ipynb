{
 "cells": [
  {
   "cell_type": "code",
   "execution_count": 2,
   "metadata": {},
   "outputs": [],
   "source": [
    "import os\n",
    "import sys\n",
    "import pandas as pd\n",
    "import numpy as np\n",
    "import geocoder\n",
    "import feather\n",
    "import re\n",
    "from collections import Counter\n",
    "import glob\n",
    "\n",
    "sys.path.append(\"/Users/ueda/Desktop/kaggle/mynavi/code/src/\")\n",
    "from util_tool import reduce_mem_usage"
   ]
  },
  {
   "cell_type": "code",
   "execution_count": 3,
   "metadata": {},
   "outputs": [],
   "source": [
    "train = pd.read_csv('../input/train.csv')\n",
    "target = train[\"賃料\"]\n",
    "train = train.drop(\"賃料\", axis=1)\n",
    "test = pd.read_csv('../input/test.csv')\n",
    "\n",
    "train_length = train.shape[0]\n",
    "test_length = test.shape[0]\n",
    "all_df = pd.concat([train, test], axis=0, ignore_index=True)"
   ]
  },
  {
   "cell_type": "code",
   "execution_count": 4,
   "metadata": {},
   "outputs": [],
   "source": [
    "def area_feature(df_input):\n",
    "    df_out = pd.DataFrame()\n",
    "    s = df_input[\"面積\"]\n",
    "    df_out[\"float面積\"] = [float(i.split(\"m\")[0]) for i in s]\n",
    "    return df_out\n",
    "\n",
    "def modify_miss(df_input):\n",
    "    df_input.loc[df_input[\"間取り\"].str.contains(\"11R\"), \"間取り\"] = \"1R\"\n",
    "    \n",
    "    df_input.loc[df_input[\"築年数\"].str.contains(\"520年5ヶ月\"), \"築年数\"] = \"52年5ヶ月\"\n",
    "    \n",
    "    df_input.loc[df_input[\"築年数\"].str.contains(\"1019年7ヶ月\"), \"築年数\"] = \"19年7ヶ月\"\n",
    "    \n",
    "    df_input.loc[df_input[\"面積\"]==\"430.1m2\", \"面積\"] = \"43.01m2\"\n",
    "    #idx = df_input[\"築年数\"].str.contains(\"1019年7ヶ月\")\n",
    "    #df_input[\"築年数\"][idx] = \"19年7ヶ月\"    \n",
    "    df_input.loc[df_input[\"面積\"]==(\"1m2\"), \"面積\"] = \"10m2\"\n",
    "    df_input.loc[df_input[\"面積\"]==(\"5.83m2\"), \"面積\"] = \"58.3m2\"\n",
    "    \n",
    "    \"三田線 三田(兵庫県)駅 徒歩14分\"\n",
    "    \n",
    "    return df_input\n",
    "\n",
    "def direction_feature(df_input):\n",
    "    \"\"\"価格の高い順に値振り分け　南は高いらしい\"\"\"\n",
    "    df_out = pd.DataFrame()\n",
    "    #direct_dict= {'南':8, '東':5, '西':4, '南東':7, '南西':6, '北':1, '北西':2, '北東':3}\n",
    "    direct_dict= {'南':1, '東':0.95, '西':0.93, '南東':0.975, '南西':0.965, '北':0.85, '北西':0.89, '北東':0.90}\n",
    "    df_out[\"int方角\"] = df_input[\"方角\"].map(direct_dict)\n",
    "    return df_out\n",
    "\n",
    "\n",
    "def built_floor_feature(df_input):\n",
    "    \"\"\"\n",
    "    所在階の中に{／}を含まないものの中から、現実的な長さのものを一軒家とみなす\n",
    "    階層情報から、低層、高層、タワーマンションで分割\n",
    "    \n",
    "    \"\"\"\n",
    "    \n",
    "    search_house = [\"1階建\", \"2階建\", \"3階建\", \"4階建\", \"2階建（地下1階）\", \"3階建（地下1階）\"] \n",
    "    df_out = pd.DataFrame()\n",
    "    df_out[\"living_floor\"] = df_input[\"所在階\"].str.split('／', expand=True)[0].str.split(\"（\", expand=True)[0].str.replace('[^0-9]', '').fillna(0)\n",
    "    cnt = -1\n",
    "    for i in df_out[\"living_floor\"]:\n",
    "        cnt += 1\n",
    "        if len(str(i)) == 0:\n",
    "            df_out[\"living_floor\"][df_out[\"living_floor\"].index[cnt]]=np.nan\n",
    "            \n",
    "    df_out[\"living_floor\"] = df_out[\"living_floor\"].astype(float)\n",
    "    df_out[\"rent_rate_by_floor\"] = 1.01 ** df_out[\"living_floor\"]\n",
    "\n",
    "    return df_out\n",
    "\n",
    "all_df = modify_miss(all_df)\n",
    "all_df = pd.concat([all_df, area_feature(all_df), direction_feature(all_df), built_floor_feature(all_df)], axis=1)"
   ]
  },
  {
   "cell_type": "code",
   "execution_count": 5,
   "metadata": {},
   "outputs": [],
   "source": [
    "def address_feature(df_input):\n",
    "    df_out = pd.DataFrame()\n",
    "    s = df_input[\"所在地\"]\n",
    "    df_out[\"所在_区\"] = [i.split('区')[0] + '区' for i in s]\n",
    "    return df_out\n",
    "\n",
    "all_df = pd.concat([all_df, address_feature(all_df)], axis=1)\n",
    "\n",
    "org_columns = all_df.columns"
   ]
  },
  {
   "cell_type": "code",
   "execution_count": 6,
   "metadata": {},
   "outputs": [],
   "source": [
    "META_PATH = '../input/meta_csv/'"
   ]
  },
  {
   "cell_type": "code",
   "execution_count": 7,
   "metadata": {},
   "outputs": [],
   "source": [
    "mt = []\n",
    "for p in glob.glob(META_PATH + '*'):\n",
    "    mt.append(pd.read_csv(p, encoding='shift_jis'))"
   ]
  },
  {
   "cell_type": "code",
   "execution_count": 8,
   "metadata": {},
   "outputs": [],
   "source": [
    "tmp = pd.concat(mt, axis=1)\n",
    "tmp = tmp.loc[:,~tmp.columns.duplicated()].drop([\"調査年\", \"/項目\"], axis=1)#.describe()\n",
    "place = tmp[\"地域\"]"
   ]
  },
  {
   "cell_type": "code",
   "execution_count": 9,
   "metadata": {},
   "outputs": [],
   "source": [
    "obj_data = [pd.Series(tmp[col]).str.replace(\"[-,]\", \"\") for col in list(tmp.columns) if tmp[col].dtype == \"O\"]\n",
    "obj_data = [pd.Series(np.where(series == \"X\", np.nan, series), name=series.name) for series in obj_data]\n",
    "num_data = [pd.Series(tmp[col]) for col in list(tmp.columns) if tmp[col].dtype != \"O\"]\n",
    "\n",
    "drop_col = []\n",
    "for v in obj_data:\n",
    "    try:\n",
    "        v.astype(float)\n",
    "    except:\n",
    "        drop_col.append(v.name)\n",
    "\n",
    "tmp_ = pd.concat(obj_data, axis=1).drop(drop_col, axis=1).astype(float)\n",
    "\n",
    "\n",
    "meta_df = pd.concat([place] + num_data + [tmp_], axis=1)\n",
    "meta_df[\"地域\"] = meta_df[\"地域\"].str.replace(\" \", \"\")\n",
    "meta_col = [col for col in meta_df.columns if col != \"地域\"]"
   ]
  },
  {
   "cell_type": "code",
   "execution_count": 10,
   "metadata": {},
   "outputs": [],
   "source": [
    "meta_dict = meta_df.set_index(\"地域\").to_dict()"
   ]
  },
  {
   "cell_type": "code",
   "execution_count": 11,
   "metadata": {},
   "outputs": [
    {
     "name": "stdout",
     "output_type": "stream",
     "text": [
      "Memory usage of dataframe is 166.56 MB\n",
      "column =  348\n",
      "0\n",
      "50\n",
      "100\n",
      "150\n",
      "200\n",
      "250\n",
      "300\n",
      "Memory usage after optimization is: 80.23 MB\n",
      "Decreased by 51.8%\n"
     ]
    }
   ],
   "source": [
    "tmp2 = [all_df[\"所在_区\"].map(meta_dict[col]).rename(col) for col in meta_col]\n",
    "meta_features = pd.concat(tmp2, axis=1)\n",
    "meta_features = reduce_mem_usage(meta_features)"
   ]
  },
  {
   "cell_type": "code",
   "execution_count": 12,
   "metadata": {},
   "outputs": [],
   "source": [
    "use_col = ['A1700_外国人人口【人】',\n",
    "           'C210851_事業所数（民営）（複合サービス事業）【所】',\n",
    "           'A1231_年齢中位数【歳】',\n",
    "           \n",
    "           '#B01101_総面積（都道府県面積に占める割合）【％】',\n",
    "           \n",
    "           'C120110_課税対象所得【千円】',\n",
    "           '#E0110201_小学校数（可住地面積100km2当たり）【校】',\n",
    "           '#E0110202_中学校数（可住地面積100km2当たり）【校】',\n",
    "           '#E0110203_高等学校数（可住地面積100km2当たり）【校】',\n",
    "           '#I0950102_一般病院数（可住地面積100km2当たり）【施設】',\n",
    "           \n",
    "           '#H06127_小売店数（人口千人当たり）【店】',\n",
    "           '#H06130_飲食店数（人口千人当たり）【店】',\n",
    "           '#H06131_大型小売店数（人口10万人当たり）【店】',\n",
    "           '#H06132_百貨店，総合スーパー数（人口10万人当たり）【店】',\n",
    "           \n",
    "           \n",
    "           'H1100_総住宅数【住宅】',\n",
    "           'H1101_居住世帯あり住宅数【住宅】',\n",
    "           'H1102_居住世帯なし住宅数【住宅】',\n",
    "           'H110202_空き家数【住宅】',\n",
    "           'H110203_建築中住宅数【住宅】',\n",
    "           'H1201_専用住宅数【住宅】',\n",
    "           'H1310_持ち家数【住宅】',\n",
    "           'H1320_借家数【住宅】',\n",
    "           'H1401_一戸建住宅数【住宅】',\n",
    "           'H1402_長屋建住宅数【住宅】',\n",
    "           'H1403_共同住宅数【住宅】',\n",
    "           'H140301_共同住宅数（木造）【住宅】',\n",
    "\n",
    "           'H2130_１住宅当たり延べ面積【ｍ2】',\n",
    "           'H213010_１住宅当たり延べ面積（持ち家）【ｍ2】',\n",
    "           'H213020_１住宅当たり延べ面積（借家）【ｍ2】',\n",
    "           \n",
    "           \n",
    "           'H2101_居住室の畳数５．９畳以下住宅数【住宅】',\n",
    "           'H2102_居住室の畳数６．０〜１１．９畳住宅数【住宅】',\n",
    "           'H2103_居住室の畳数１２．０〜１７．９畳住宅数【住宅】',\n",
    "           'H2104_居住室の畳数１８．０〜２３．９畳住宅数【住宅】',\n",
    "           'H2105_居住室の畳数２４．０〜２９．９畳住宅数【住宅】',\n",
    "           'H2106_居住室の畳数３０．０〜３５．９畳住宅数【住宅】',\n",
    "           'H2107_居住室の畳数３６．０〜４７．９畳住宅数【住宅】',\n",
    "           'H2108_居住室の畳数４８．０畳以上住宅数【住宅】',\n",
    "           \n",
    "           'H2230_高齢者等用設備住宅数【住宅】',\n",
    "           'H2110_１住宅当たり居住室数【室】',\n",
    "           'H211010_１住宅当たり居住室数（持ち家）【室】',\n",
    "           'H211020_１住宅当たり居住室数（借家）【室】',\n",
    "           \n",
    "           \n",
    "           'H2500_着工居住用建築物床面積【ｍ2】',\n",
    "           #'H2600_着工新設住宅床面積【ｍ2】',\n",
    "           #'H2601_着工新設持家床面積【ｍ2】',\n",
    "           #'H2602_着工新設分譲住宅床面積【ｍ2】',\n",
    "           #'H2603_着工新設貸家床面積【ｍ2】',\n",
    "           #'H2604_着工新設給与住宅床面積【ｍ2】',\n",
    "           'H3100_総世帯数【世帯】',\n",
    "           'H311110_６５歳以上の世帯員のいる世帯数（住宅・土地統計調査結果）【世帯】',\n",
    "           \n",
    "           'H4102_専用住宅の１か月当たり家賃・間代【円】',\n",
    "           'H4104_専用住宅の１畳当たり家賃【円】',\n",
    "           \"H3300_総世帯人員【人】\",\n",
    "           \"H7207_軽自動車等の賦課期日現在台数【台】\",\n",
    "           \n",
    "           \"H7401_家計を主に支える者が雇用者である普通世帯数【世帯】\",\n",
    "           \"H740101_家計を主に支える者が雇用者である普通世帯数（通勤時間３０分未満）【世帯】\",\n",
    "           'H740102_家計を主に支える者が雇用者である普通世帯数（通勤時間３０分〜１時間）【世帯】',\n",
    "           'H740103_家計を主に支える者が雇用者である普通世帯数（通勤時間１時間〜１時間３０分）【世帯】',\n",
    "           \"H740104_家計を主に支える者が雇用者である普通世帯数（通勤時間１時間３０分以上）【世帯】\",\n",
    "           \"C2207_従業者数（経済センサス‐基礎調査結果）【人】\",\n",
    "           \n",
    "           #\"H810402_住居地域面積【ｈａ】\",\n",
    "           #\"H810404_商業地域面積【ｈａ】\",\n",
    "           \n",
    "           #'A1101_総人口【人】',\n",
    "          ]"
   ]
  },
  {
   "cell_type": "code",
   "execution_count": 13,
   "metadata": {},
   "outputs": [],
   "source": [
    "#use_col.sort()\n",
    "#use_col"
   ]
  },
  {
   "cell_type": "code",
   "execution_count": 14,
   "metadata": {},
   "outputs": [],
   "source": [
    "#meta_features[use_col].head()"
   ]
  },
  {
   "cell_type": "code",
   "execution_count": 15,
   "metadata": {},
   "outputs": [],
   "source": [
    "meta_features[\"all_house_area\"] = meta_features['H2500_着工居住用建築物床面積【ｍ2】'] * meta_features['#B01101_総面積（都道府県面積に占める割合）【％】']\n",
    "meta_features[\"num_person_per_family\"] = meta_features['A1101_総人口【人】'] / meta_features['H3100_総世帯数【世帯】']\n",
    "meta_features[\"old_per_family\"] = meta_features['H311110_６５歳以上の世帯員のいる世帯数（住宅・土地統計調査結果）【世帯】'] / meta_features['H3100_総世帯数【世帯】']\n",
    "\n",
    "meta_features[\"30min_to_go_work\"] = meta_features[\"H740101_家計を主に支える者が雇用者である普通世帯数（通勤時間３０分未満）【世帯】\"] / meta_features[\"H7401_家計を主に支える者が雇用者である普通世帯数【世帯】\"]\n",
    "meta_features[\"60min_to_go_work\"] = meta_features['H740102_家計を主に支える者が雇用者である普通世帯数（通勤時間３０分〜１時間）【世帯】'] / meta_features[\"H7401_家計を主に支える者が雇用者である普通世帯数【世帯】\"]\n",
    "meta_features[\"90min_to_go_work\"] = meta_features['H740103_家計を主に支える者が雇用者である普通世帯数（通勤時間１時間〜１時間３０分）【世帯】'] / meta_features[\"H7401_家計を主に支える者が雇用者である普通世帯数【世帯】\"]\n",
    "meta_features[\"120min_to_go_work\"] = meta_features[\"H740104_家計を主に支える者が雇用者である普通世帯数（通勤時間１時間３０分以上）【世帯】\"] / meta_features[\"H7401_家計を主に支える者が雇用者である普通世帯数【世帯】\"]\n",
    "\n"
   ]
  },
  {
   "cell_type": "code",
   "execution_count": 16,
   "metadata": {},
   "outputs": [],
   "source": [
    "meta_features[\"tree/all_house_num\"] = meta_features['H140301_共同住宅数（木造）【住宅】'] / meta_features['H1403_共同住宅数【住宅】']\n",
    "meta_features[\"yesliving/living_house_num\"] = meta_features['H1101_居住世帯あり住宅数【住宅】'] / meta_features['H1100_総住宅数【住宅】']\n",
    "meta_features[\"having/rent_house_num\"] = meta_features['H1310_持ち家数【住宅】'] / meta_features['H1320_借家数【住宅】']\n",
    "meta_features[\"single/manshon_house_num\"] = meta_features['H1401_一戸建住宅数【住宅】'] / meta_features['H1403_共同住宅数【住宅】']\n",
    "meta_features[\"old/all_manshon_house_num\"] = meta_features['H140301_共同住宅数（木造）【住宅】'] / meta_features['H1403_共同住宅数【住宅】']\n",
    "meta_features[\"old/all_having_house_num\"] = meta_features['H1402_長屋建住宅数【住宅】'] / meta_features['H1401_一戸建住宅数【住宅】']\n",
    "meta_features[\"余り割合_house_num\"] = meta_features['H110202_空き家数【住宅】'] / meta_features['H1100_総住宅数【住宅】']\n",
    "\n",
    "meta_features[\"num_school\"] = (meta_features['#E0110201_小学校数（可住地面積100km2当たり）【校】'] + meta_features['#E0110202_中学校数（可住地面積100km2当たり）【校】'] + \n",
    "                               meta_features['#E0110203_高等学校数（可住地面積100km2当たり）【校】']) * meta_features['#B01101_総面積（都道府県面積に占める割合）【％】']\n",
    "\n",
    "meta_features[\"rent/allave_house_area\"] = meta_features['H213020_１住宅当たり延べ面積（借家）【ｍ2】'] / meta_features['H2130_１住宅当たり延べ面積【ｍ2】']\n",
    "\n",
    "meta_features[\"5.9jou/all_house_num\"] = meta_features['H2101_居住室の畳数５．９畳以下住宅数【住宅】'] / meta_features['H1100_総住宅数【住宅】']\n",
    "meta_features[\"6-11.9jou/all_house_num\"] = meta_features['H2102_居住室の畳数６．０〜１１．９畳住宅数【住宅】'] / meta_features['H1100_総住宅数【住宅】']\n",
    "meta_features[\"12-17.9jou/all_house_num\"] = meta_features['H2103_居住室の畳数１２．０〜１７．９畳住宅数【住宅】'] / meta_features['H1100_総住宅数【住宅】']\n",
    "meta_features[\"18-23.9jou/all_house_num\"] = meta_features['H2104_居住室の畳数１８．０〜２３．９畳住宅数【住宅】'] / meta_features['H1100_総住宅数【住宅】']\n",
    "meta_features[\"24-29.9jou/all_house_num\"] = meta_features['H2105_居住室の畳数２４．０〜２９．９畳住宅数【住宅】'] / meta_features['H1100_総住宅数【住宅】']\n",
    "meta_features[\"30-35.9jou/all_house_num\"] = meta_features['H2106_居住室の畳数３０．０〜３５．９畳住宅数【住宅】'] / meta_features['H1100_総住宅数【住宅】']\n",
    "meta_features[\"36-47.9jou/all_house_num\"] = meta_features['H2107_居住室の畳数３６．０〜４７．９畳住宅数【住宅】'] / meta_features['H1100_総住宅数【住宅】']\n",
    "meta_features[\"48-jou/all_house_num\"] = meta_features['H2108_居住室の畳数４８．０畳以上住宅数【住宅】'] / meta_features['H1100_総住宅数【住宅】']"
   ]
  },
  {
   "cell_type": "code",
   "execution_count": 17,
   "metadata": {},
   "outputs": [],
   "source": [
    "meta_features[\"平均的な賃料相場\"] = meta_features['H4104_専用住宅の１畳当たり家賃【円】'] * all_df[\"float面積\"]\n",
    "meta_features[\"平均的な賃料相場_方角\"] = meta_features[\"平均的な賃料相場\"] * all_df[\"int方角\"]\n",
    "meta_features[\"平均的な賃料相場_階数_方角\"] = meta_features[\"平均的な賃料相場\"] * all_df[\"int方角\"] * all_df[\"rent_rate_by_floor\"]\n",
    "meta_features[\"平均的な賃料相場_階数\"] = meta_features[\"平均的な賃料相場\"] * all_df[\"rent_rate_by_floor\"]\n",
    "#meta_features.corr()\n",
    "#list(meta_features.columns)\n",
    "use_col = [\"A6108_昼夜間人口比率【％】\", \"平均的な賃料相場\", 'H4104_専用住宅の１畳当たり家賃【円】', \n",
    "           \"平均的な賃料相場_方角\", \"平均的な賃料相場_階数_方角\", \"平均的な賃料相場_階数\" #\"120min_to_go_work\", \"30min_to_go_work\"\n",
    "          ]\n",
    "#meta_features[\"C120110_課税対象所得【千円】\"].hist()"
   ]
  },
  {
   "cell_type": "code",
   "execution_count": 18,
   "metadata": {},
   "outputs": [],
   "source": [
    "meta_features = meta_features[use_col]"
   ]
  },
  {
   "cell_type": "code",
   "execution_count": 50,
   "metadata": {},
   "outputs": [
    {
     "data": {
      "text/plain": [
       "Index(['A6108_昼夜間人口比率【％】', '平均的な賃料相場', 'H4104_専用住宅の１畳当たり家賃【円】', '平均的な賃料相場_方角',\n",
       "       '平均的な賃料相場_階数_方角', '平均的な賃料相場_階数'],\n",
       "      dtype='object')"
      ]
     },
     "execution_count": 50,
     "metadata": {},
     "output_type": "execute_result"
    }
   ],
   "source": [
    "#meta_features[\"平均賃料_mean\"] = meta_features[[\"平均的な賃料相場_方角\", \"平均的な賃料相場_階数_方角\", \"平均的な賃料相場_階数\", \"平均的な賃料相場\"]].mean(axis=1)\n",
    "#meta_features[\"平均賃料_std\"] = meta_features[[\"平均的な賃料相場_方角\", \"平均的な賃料相場_階数_方角\", \"平均的な賃料相場_階数\", \"平均的な賃料相場\"]].std(axis=1)\n",
    "#meta_features[\"平均賃料_min\"] = meta_features[[\"平均的な賃料相場_方角\", \"平均的な賃料相場_階数_方角\", \"平均的な賃料相場_階数\", \"平均的な賃料相場\"]].min(axis=1)\n",
    "#meta_features[\"平均賃料_max\"] = meta_features[[\"平均的な賃料相場_方角\", \"平均的な賃料相場_階数_方角\", \"平均的な賃料相場_階数\", \"平均的な賃料相場\"]].max(axis=1)\n",
    "meta_features.columns"
   ]
  },
  {
   "cell_type": "code",
   "execution_count": 53,
   "metadata": {},
   "outputs": [],
   "source": [
    "from sklearn.preprocessing import MinMaxScaler\n",
    "scalar = MinMaxScaler()\n",
    "scalar.fit(all_eki_df[[\"0_people\", \"1_people\", \"2_people\"]])\n",
    "normalized_people = pd.DataFrame(scalar.transform(all_eki_df[[\"0_people\", \"1_people\", \"2_people\"]]))\n",
    "\n",
    "for col in ['平均的な賃料相場', '平均的な賃料相場_方角','平均的な賃料相場_階数_方角', '平均的な賃料相場_階数']:\n",
    "    meta_features[f\"駅_0利用率*{col}\"] = meta_features[col] * normalized_people[0]\n",
    "    meta_features[f\"駅_1利用率*{col}\"] = meta_features[col] * normalized_people[1]\n",
    "    meta_features[f\"駅_2利用率*{col}\"] = meta_features[col] * normalized_people[2]"
   ]
  },
  {
   "cell_type": "code",
   "execution_count": 55,
   "metadata": {},
   "outputs": [
    {
     "data": {
      "text/plain": [
       "Index(['A6108_昼夜間人口比率【％】', '平均的な賃料相場', 'H4104_専用住宅の１畳当たり家賃【円】', '平均的な賃料相場_方角',\n",
       "       '平均的な賃料相場_階数_方角', '平均的な賃料相場_階数', '駅_0利用率*平均的な賃料相場', '駅_1利用率*平均的な賃料相場',\n",
       "       '駅_2利用率*平均的な賃料相場', '駅_0利用率*平均的な賃料相場_方角', '駅_1利用率*平均的な賃料相場_方角',\n",
       "       '駅_2利用率*平均的な賃料相場_方角', '駅_0利用率*平均的な賃料相場_階数_方角', '駅_1利用率*平均的な賃料相場_階数_方角',\n",
       "       '駅_2利用率*平均的な賃料相場_階数_方角', '駅_0利用率*平均的な賃料相場_階数', '駅_1利用率*平均的な賃料相場_階数',\n",
       "       '駅_2利用率*平均的な賃料相場_階数'],\n",
       "      dtype='object')"
      ]
     },
     "execution_count": 55,
     "metadata": {},
     "output_type": "execute_result"
    }
   ],
   "source": [
    "output_dir = '../code/feature_csv/'\n",
    "meta_features.to_feather(os.path.join(output_dir, 'meta_features.feather'))\n",
    "meta_features.columns"
   ]
  },
  {
   "cell_type": "markdown",
   "metadata": {},
   "source": [
    "# 駅情報"
   ]
  },
  {
   "cell_type": "code",
   "execution_count": 20,
   "metadata": {},
   "outputs": [],
   "source": [
    "import geopandas\n",
    "import feather\n"
   ]
  },
  {
   "cell_type": "code",
   "execution_count": 21,
   "metadata": {},
   "outputs": [],
   "source": [
    "eki_geoson = geopandas.read_file(\"../input/S12-17_GML/S12-17_NumberOfPassengers.geojson\")\n",
    "access_df = feather.read_dataframe(\"../code/feature_csv/access_feature.feather\")\n",
    "base_df = feather.read_dataframe(\"../code/feature_csv/base_feature1.feather\")"
   ]
  },
  {
   "cell_type": "code",
   "execution_count": 22,
   "metadata": {},
   "outputs": [
    {
     "data": {
      "text/plain": [
       "{'山手線': 5112,\n",
       " '総武線・中央線（各停）': 2806,\n",
       " '都営大江戸線': 2716,\n",
       " '東西線': 2693,\n",
       " '都営三田線': 2609,\n",
       " '西武池袋線': 2441,\n",
       " '有楽町線': 2309,\n",
       " '都営新宿線': 2268,\n",
       " '京浜東北線': 2048,\n",
       " '日比谷線': 1970,\n",
       " '京王線': 1960,\n",
       " '東急田園都市線': 1948,\n",
       " '千代田線': 1895,\n",
       " '丸ノ内線(池袋－荻窪)': 1855,\n",
       " '東武スカイツリーライン': 1698,\n",
       " '東武東上線': 1653,\n",
       " '中央線（快速）': 1602,\n",
       " '都営浅草線': 1578,\n",
       " '小田急小田原線': 1578,\n",
       " '西武新宿線': 1521,\n",
       " '東急東横線': 1432,\n",
       " '南北線': 1357,\n",
       " '京急本線': 1236,\n",
       " '半蔵門線': 1127,\n",
       " '東急池上線': 1064,\n",
       " '常磐線': 1057,\n",
       " '京王井の頭線': 1009,\n",
       " '日暮里・舎人ライナー': 876,\n",
       " '京成本線': 839,\n",
       " '東急目黒線': 826,\n",
       " '東急大井町線': 732,\n",
       " '丸ノ内線(中野坂上－方南町)': 644,\n",
       " 'つくばエクスプレス': 627,\n",
       " '銀座線': 617,\n",
       " '埼京線': 616,\n",
       " '京王新線': 533,\n",
       " '京成押上線': 480,\n",
       " '総武本線': 415,\n",
       " '東急多摩川線': 387,\n",
       " '副都心線': 379,\n",
       " '東急世田谷線': 361,\n",
       " '京急空港線': 329,\n",
       " '京葉線(東京－蘇我)': 184,\n",
       " '常磐線快速': 184,\n",
       " 'ゆりかもめ': 140,\n",
       " '京成金町線': 131,\n",
       " '横須賀線': 122,\n",
       " 'りんかい線': 121,\n",
       " '東武亀戸線': 115,\n",
       " '都電荒川線': 102,\n",
       " '西武有楽町線': 77,\n",
       " '東武大師線': 77,\n",
       " '高崎線': 75,\n",
       " '東京モノレール羽田線': 44,\n",
       " '東武伊勢崎線(押上－曳舟)': 38,\n",
       " '北総線': 38,\n",
       " '東海道新幹線': 24,\n",
       " '西武豊島線': 23,\n",
       " '東海道本線': 12,\n",
       " '東北本線（宇都宮線）': 12,\n",
       " '湘南新宿ライン(東北本線－横須賀線)': 5,\n",
       " '中央本線(東京－松本)': 2,\n",
       " '埼玉高速鉄道線': 1,\n",
       " '京成成田空港線': 1,\n",
       " '湘南新宿ライン(高崎線－東海道本線)': 1}"
      ]
     },
     "execution_count": 22,
     "metadata": {},
     "output_type": "execute_result"
    }
   ],
   "source": [
    "access_df[\"路線_0\"].value_counts().to_dict()"
   ]
  },
  {
   "cell_type": "code",
   "execution_count": 23,
   "metadata": {},
   "outputs": [
    {
     "data": {
      "text/html": [
       "<div>\n",
       "<style scoped>\n",
       "    .dataframe tbody tr th:only-of-type {\n",
       "        vertical-align: middle;\n",
       "    }\n",
       "\n",
       "    .dataframe tbody tr th {\n",
       "        vertical-align: top;\n",
       "    }\n",
       "\n",
       "    .dataframe thead th {\n",
       "        text-align: right;\n",
       "    }\n",
       "</style>\n",
       "<table border=\"1\" class=\"dataframe\">\n",
       "  <thead>\n",
       "    <tr style=\"text-align: right;\">\n",
       "      <th></th>\n",
       "      <th>路線_0</th>\n",
       "      <th>駅_0</th>\n",
       "      <th>駅からの距離_0</th>\n",
       "      <th>路線_1</th>\n",
       "      <th>駅_1</th>\n",
       "      <th>駅からの距離_1</th>\n",
       "      <th>路線_2</th>\n",
       "      <th>駅_2</th>\n",
       "      <th>駅からの距離_2</th>\n",
       "      <th>駅_0からの距離_mean</th>\n",
       "      <th>...</th>\n",
       "      <th>駅_2からの距離_mean_diff</th>\n",
       "      <th>access_way_count</th>\n",
       "      <th>駅_0_緯度</th>\n",
       "      <th>駅_0_経度</th>\n",
       "      <th>駅_1_緯度</th>\n",
       "      <th>駅_1_経度</th>\n",
       "      <th>駅_2_緯度</th>\n",
       "      <th>駅_2_経度</th>\n",
       "      <th>catuse_路線_0</th>\n",
       "      <th>catuse_駅_0</th>\n",
       "    </tr>\n",
       "  </thead>\n",
       "  <tbody>\n",
       "    <tr>\n",
       "      <th>0</th>\n",
       "      <td>都営三田線</td>\n",
       "      <td>西巣鴨駅</td>\n",
       "      <td>320</td>\n",
       "      <td>埼京線</td>\n",
       "      <td>板橋駅</td>\n",
       "      <td>1120.0</td>\n",
       "      <td>都電荒川線</td>\n",
       "      <td>西ケ原四丁目駅</td>\n",
       "      <td>560.0</td>\n",
       "      <td>654.704595</td>\n",
       "      <td>...</td>\n",
       "      <td>-116.756757</td>\n",
       "      <td>3</td>\n",
       "      <td>35.743717</td>\n",
       "      <td>139.728583</td>\n",
       "      <td>35.745564</td>\n",
       "      <td>139.720024</td>\n",
       "      <td>35.744734</td>\n",
       "      <td>139.733086</td>\n",
       "      <td>都営三田線</td>\n",
       "      <td>西巣鴨駅</td>\n",
       "    </tr>\n",
       "    <tr>\n",
       "      <th>1</th>\n",
       "      <td>都営大江戸線</td>\n",
       "      <td>勝どき駅</td>\n",
       "      <td>400</td>\n",
       "      <td>有楽町線</td>\n",
       "      <td>月島駅</td>\n",
       "      <td>720.0</td>\n",
       "      <td>日比谷線</td>\n",
       "      <td>築地駅</td>\n",
       "      <td>1600.0</td>\n",
       "      <td>651.213873</td>\n",
       "      <td>...</td>\n",
       "      <td>-650.030960</td>\n",
       "      <td>3</td>\n",
       "      <td>35.658962</td>\n",
       "      <td>139.777175</td>\n",
       "      <td>35.663861</td>\n",
       "      <td>139.784085</td>\n",
       "      <td>35.667880</td>\n",
       "      <td>139.772516</td>\n",
       "      <td>都営大江戸線</td>\n",
       "      <td>勝どき駅</td>\n",
       "    </tr>\n",
       "    <tr>\n",
       "      <th>2</th>\n",
       "      <td>京王線</td>\n",
       "      <td>笹塚駅</td>\n",
       "      <td>480</td>\n",
       "      <td>京王線</td>\n",
       "      <td>代田橋駅</td>\n",
       "      <td>560.0</td>\n",
       "      <td>京王線</td>\n",
       "      <td>明大前駅</td>\n",
       "      <td>1360.0</td>\n",
       "      <td>1048.602151</td>\n",
       "      <td>...</td>\n",
       "      <td>-166.000000</td>\n",
       "      <td>3</td>\n",
       "      <td>35.674556</td>\n",
       "      <td>139.667221</td>\n",
       "      <td>35.670976</td>\n",
       "      <td>139.658763</td>\n",
       "      <td>35.668379</td>\n",
       "      <td>139.650880</td>\n",
       "      <td>京王線</td>\n",
       "      <td>笹塚駅</td>\n",
       "    </tr>\n",
       "    <tr>\n",
       "      <th>3</th>\n",
       "      <td>総武線・中央線（各停）</td>\n",
       "      <td>高円寺駅</td>\n",
       "      <td>720</td>\n",
       "      <td>丸ノ内線(池袋－荻窪)</td>\n",
       "      <td>新高円寺駅</td>\n",
       "      <td>240.0</td>\n",
       "      <td>丸ノ内線(池袋－荻窪)</td>\n",
       "      <td>東高円寺駅</td>\n",
       "      <td>1120.0</td>\n",
       "      <td>1062.289417</td>\n",
       "      <td>...</td>\n",
       "      <td>-252.207407</td>\n",
       "      <td>3</td>\n",
       "      <td>35.704942</td>\n",
       "      <td>139.649909</td>\n",
       "      <td>35.697908</td>\n",
       "      <td>139.648405</td>\n",
       "      <td>35.697881</td>\n",
       "      <td>139.657623</td>\n",
       "      <td>総武線・中央線（各停）</td>\n",
       "      <td>高円寺駅</td>\n",
       "    </tr>\n",
       "    <tr>\n",
       "      <th>4</th>\n",
       "      <td>京成金町線</td>\n",
       "      <td>京成金町駅</td>\n",
       "      <td>400</td>\n",
       "      <td>常磐線</td>\n",
       "      <td>金町(東京都)駅</td>\n",
       "      <td>560.0</td>\n",
       "      <td>京成金町線</td>\n",
       "      <td>柴又駅</td>\n",
       "      <td>1360.0</td>\n",
       "      <td>1451.552795</td>\n",
       "      <td>...</td>\n",
       "      <td>81.170213</td>\n",
       "      <td>3</td>\n",
       "      <td>35.768598</td>\n",
       "      <td>139.870441</td>\n",
       "      <td>35.769538</td>\n",
       "      <td>139.870476</td>\n",
       "      <td>35.756573</td>\n",
       "      <td>139.875197</td>\n",
       "      <td>京成金町線</td>\n",
       "      <td>京成金町駅</td>\n",
       "    </tr>\n",
       "  </tbody>\n",
       "</table>\n",
       "<p>5 rows × 65 columns</p>\n",
       "</div>"
      ],
      "text/plain": [
       "          路線_0    駅_0  駅からの距離_0         路線_1       駅_1  駅からの距離_1         路線_2  \\\n",
       "0        都営三田線   西巣鴨駅       320          埼京線       板橋駅    1120.0        都電荒川線   \n",
       "1       都営大江戸線   勝どき駅       400         有楽町線       月島駅     720.0         日比谷線   \n",
       "2          京王線    笹塚駅       480          京王線      代田橋駅     560.0          京王線   \n",
       "3  総武線・中央線（各停）   高円寺駅       720  丸ノ内線(池袋－荻窪)     新高円寺駅     240.0  丸ノ内線(池袋－荻窪)   \n",
       "4        京成金町線  京成金町駅       400          常磐線  金町(東京都)駅     560.0        京成金町線   \n",
       "\n",
       "       駅_2  駅からの距離_2  駅_0からの距離_mean  ...  駅_2からの距離_mean_diff  \\\n",
       "0  西ケ原四丁目駅     560.0     654.704595  ...         -116.756757   \n",
       "1      築地駅    1600.0     651.213873  ...         -650.030960   \n",
       "2     明大前駅    1360.0    1048.602151  ...         -166.000000   \n",
       "3    東高円寺駅    1120.0    1062.289417  ...         -252.207407   \n",
       "4      柴又駅    1360.0    1451.552795  ...           81.170213   \n",
       "\n",
       "   access_way_count     駅_0_緯度      駅_0_経度     駅_1_緯度      駅_1_経度     駅_2_緯度  \\\n",
       "0                 3  35.743717  139.728583  35.745564  139.720024  35.744734   \n",
       "1                 3  35.658962  139.777175  35.663861  139.784085  35.667880   \n",
       "2                 3  35.674556  139.667221  35.670976  139.658763  35.668379   \n",
       "3                 3  35.704942  139.649909  35.697908  139.648405  35.697881   \n",
       "4                 3  35.768598  139.870441  35.769538  139.870476  35.756573   \n",
       "\n",
       "       駅_2_経度  catuse_路線_0  catuse_駅_0  \n",
       "0  139.733086        都営三田線        西巣鴨駅  \n",
       "1  139.772516       都営大江戸線        勝どき駅  \n",
       "2  139.650880          京王線         笹塚駅  \n",
       "3  139.657623  総武線・中央線（各停）        高円寺駅  \n",
       "4  139.875197        京成金町線       京成金町駅  \n",
       "\n",
       "[5 rows x 65 columns]"
      ]
     },
     "execution_count": 23,
     "metadata": {},
     "output_type": "execute_result"
    }
   ],
   "source": [
    "access_df.head()"
   ]
  },
  {
   "cell_type": "code",
   "execution_count": 24,
   "metadata": {},
   "outputs": [],
   "source": [
    "use_railway = ['東日本旅客鉄道', '東武鉄道', '東京地下鉄', '東京都', '東京急行電鉄', '西武鉄道','京浜急行電鉄',\n",
    " '京成電鉄','札幌市','京王電鉄', 'ゆりかもめ', '東京モノレール', '東京臨海高速鉄道']\n",
    "\n",
    "#eki_geoson[\"運営会社\"].value_counts().to_dict()"
   ]
  },
  {
   "cell_type": "code",
   "execution_count": 25,
   "metadata": {},
   "outputs": [
    {
     "data": {
      "text/plain": [
       "'実行は一度だけ'"
      ]
     },
     "execution_count": 25,
     "metadata": {},
     "output_type": "execute_result"
    }
   ],
   "source": [
    "\"\"\"実行は一度だけ\"\"\"\n",
    "#eki_geoson[eki_geoson[\"運営会社\"]=='東京地下鉄']\n",
    "#use_cols = ['駅名', '運営会社', '路線名', '鉄道区分', '事業者種別', '重複2016', '有無2016', '備考2016', '乗降客数16']\n",
    "#use_cols = ['駅名', '運営会社', '路線名', '乗降客数16']\n",
    "#eki_geoson.loc[eki_geoson[\"運営会社\"]=='東京地下鉄', \"路線名\"] = eki_geoson[eki_geoson[\"運営会社\"]=='東京地下鉄'][use_cols][\"路線名\"].str.split(\"号線\", expand=True)[1].values\n",
    "\n"
   ]
  },
  {
   "cell_type": "code",
   "execution_count": 26,
   "metadata": {},
   "outputs": [],
   "source": [
    "#eki_geoson[eki_geoson[\"運営会社\"]==use_railway[1]][\"路線名\"].value_counts()#[use_cols]"
   ]
  },
  {
   "cell_type": "code",
   "execution_count": 27,
   "metadata": {},
   "outputs": [],
   "source": [
    "eki_0 = access_df[\"駅_0\"].str.split(\"駅\", expand=True)\n",
    "eki_0[\"駅名\"] = np.where(eki_0[1]==\"前\", eki_0[0].astype(str) + \"駅\" + eki_0[1].astype(str), eki_0[0].astype(str))\n",
    "eki_0_df = eki_0[\"駅名\"].str.split(\"(\", expand=True)[[0]]\n",
    "eki_0_df.columns = [\"eki0_name\"]\n",
    "\n",
    "\n",
    "eki_1 = access_df[\"駅_1\"].str.split(\"駅\", expand=True)\n",
    "eki_1[\"駅名\"] = np.where(eki_1[1]==\"前\", eki_1[0].astype(str) + \"駅\" + eki_1[1].astype(str), eki_1[0].astype(str))\n",
    "eki_1_df = eki_1[\"駅名\"].str.split(\"(\", expand=True)[[0]]\n",
    "eki_1_df.columns = [\"eki1_name\"]\n",
    "\n",
    "\n",
    "eki_2 = access_df[\"駅_2\"].str.split(\"駅\", expand=True)\n",
    "eki_2[\"駅名\"] = np.where(eki_2[1]==\"前\", eki_2[0].astype(str) + \"駅\" + eki_2[1].astype(str), eki_2[0].astype(str))\n",
    "eki_2_df = eki_2[\"駅名\"].str.split(\"(\", expand=True)[[0]]\n",
    "eki_2_df.columns = [\"eki2_name\"]"
   ]
  },
  {
   "cell_type": "code",
   "execution_count": 28,
   "metadata": {},
   "outputs": [],
   "source": [
    "all_eki_df = pd.concat([eki_0_df, eki_1_df, eki_2_df], axis=1)"
   ]
  },
  {
   "cell_type": "code",
   "execution_count": 29,
   "metadata": {},
   "outputs": [
    {
     "name": "stderr",
     "output_type": "stream",
     "text": [
      "/Users/ueda/.pyenv/versions/3.6.5/lib/python3.6/site-packages/geopandas/geodataframe.py:546: UserWarning: Boolean Series key will be reindexed to match DataFrame index.\n",
      "  result = super(GeoDataFrame, self).__getitem__(key)\n"
     ]
    }
   ],
   "source": [
    "tokyo_df = eki_geoson[eki_geoson.centroid.x.astype(int) == 139][eki_geoson.centroid.y.astype(int) == 35]\n",
    "tokyo_df = tokyo_df.reset_index(drop=True)"
   ]
  },
  {
   "cell_type": "code",
   "execution_count": 30,
   "metadata": {},
   "outputs": [],
   "source": [
    "tokyo_dict = tokyo_df.groupby(\"駅名\").sum()[[\"乗降客数14\", \"乗降客数15\", \"乗降客数16\"]].max(axis=1).to_dict()"
   ]
  },
  {
   "cell_type": "code",
   "execution_count": 31,
   "metadata": {},
   "outputs": [],
   "source": [
    "def num_people(text):\n",
    "    if type(text)==float:\n",
    "        return np.nan\n",
    "    else:\n",
    "        if text == \"NaN\":\n",
    "            return np.nan\n",
    "        else:         \n",
    "            text = re.sub(\"ケ\", \"ヶ\", text)\n",
    "            text = re.sub(\"・\", \"･\", text)\n",
    "            return tokyo_dict[text]\n",
    "    \n",
    "all_eki_df[\"0_people\"] = all_eki_df[\"eki0_name\"].apply(lambda x:num_people(x))\n",
    "all_eki_df[\"1_people\"] = all_eki_df[\"eki1_name\"].apply(lambda x:num_people(x))\n",
    "all_eki_df[\"2_people\"] = all_eki_df[\"eki2_name\"].apply(lambda x:num_people(x))"
   ]
  },
  {
   "cell_type": "code",
   "execution_count": 32,
   "metadata": {},
   "outputs": [],
   "source": [
    "all_eki_df[\"駅からの距離_0\"] = access_df[\"駅からの距離_0\"]\n",
    "all_eki_df[\"駅からの距離_1\"] = access_df[\"駅からの距離_1\"]\n",
    "all_eki_df[\"駅からの距離_2\"] = access_df[\"駅からの距離_2\"]"
   ]
  },
  {
   "cell_type": "code",
   "execution_count": 33,
   "metadata": {},
   "outputs": [],
   "source": [
    "all_eki_df[\"mean_people\"] = all_eki_df[[\"0_people\", \"1_people\", \"2_people\"]].mean(axis=1)\n",
    "all_eki_df[\"max_people\"] = all_eki_df[[\"0_people\", \"1_people\", \"2_people\"]].max(axis=1)\n",
    "all_eki_df[\"min_people\"] = all_eki_df[[\"0_people\", \"1_people\", \"2_people\"]].min(axis=1)\n",
    "all_eki_df[\"std_people\"] = all_eki_df[[\"0_people\", \"1_people\", \"2_people\"]].std(axis=1)\n",
    "\n",
    "\n",
    "all_eki_df[\"people/meter_0\"] = all_eki_df[\"0_people\"] / all_eki_df[\"駅からの距離_0\"]\n",
    "all_eki_df[\"people/meter_1\"] = all_eki_df[\"1_people\"] / all_eki_df[\"駅からの距離_1\"]\n",
    "all_eki_df[\"people/meter_2\"] = all_eki_df[\"2_people\"] / all_eki_df[\"駅からの距離_2\"]\n",
    "\n",
    "all_eki_df[\"mean_people/meter_0\"] = all_eki_df[[\"people/meter_0\", \"people/meter_1\", \"people/meter_2\"]].mean(axis=1)\n",
    "all_eki_df[\"max_people/meter_0\"] = all_eki_df[[\"people/meter_0\", \"people/meter_1\", \"people/meter_2\"]].max(axis=1)\n",
    "all_eki_df[\"min_people/meter_0\"] = all_eki_df[[\"people/meter_0\", \"people/meter_1\", \"people/meter_2\"]].min(axis=1)\n",
    "all_eki_df[\"std_people/meter_0\"] = all_eki_df[[\"people/meter_0\", \"people/meter_1\", \"people/meter_2\"]].std(axis=1)"
   ]
  },
  {
   "cell_type": "code",
   "execution_count": 34,
   "metadata": {},
   "outputs": [
    {
     "data": {
      "text/plain": [
       "0         95847.90\n",
       "1        119212.50\n",
       "2        149058.00\n",
       "3        350300.16\n",
       "4        161059.26\n",
       "           ...    \n",
       "62727    156833.92\n",
       "62728    143663.46\n",
       "62729    289294.72\n",
       "62730    349195.20\n",
       "62731    113884.86\n",
       "Name: 平均的な賃料相場, Length: 62732, dtype: float64"
      ]
     },
     "execution_count": 34,
     "metadata": {},
     "output_type": "execute_result"
    }
   ],
   "source": [
    "all_eki_df[\"所在_区\"] = all_df[\"所在_区\"]\n",
    "meta_features[\"平均的な賃料相場\"]\n",
    "#all_eki_df.groupby(\"所在_区\").max()"
   ]
  },
  {
   "cell_type": "code",
   "execution_count": 35,
   "metadata": {},
   "outputs": [],
   "source": [
    "already_col = ['eki0_name', 'eki1_name', 'eki2_name','駅からの距離_0', '駅からの距離_1', '駅からの距離_2', \"所在_区\"]\n",
    "\n",
    "use_cols = [col for col in all_eki_df.columns if col not in already_col]"
   ]
  },
  {
   "cell_type": "code",
   "execution_count": 143,
   "metadata": {},
   "outputs": [
    {
     "data": {
      "text/plain": [
       "Index(['eki0_name', 'eki1_name', 'eki2_name', '0_people', '1_people',\n",
       "       '2_people', '駅からの距離_0', '駅からの距離_1', '駅からの距離_2', 'mean_people',\n",
       "       'max_people', 'min_people', 'std_people', 'people/meter_0',\n",
       "       'people/meter_1', 'people/meter_2', 'mean_people/meter_0',\n",
       "       'max_people/meter_0', 'min_people/meter_0', 'std_people/meter_0',\n",
       "       '所在_区'],\n",
       "      dtype='object')"
      ]
     },
     "execution_count": 143,
     "metadata": {},
     "output_type": "execute_result"
    }
   ],
   "source": [
    "output_dir = '../code/feature_csv/'\n",
    "all_eki_df[use_cols].to_feather(os.path.join(output_dir, 'eki_people.feather'))\n",
    "all_eki_df.columns"
   ]
  },
  {
   "cell_type": "markdown",
   "metadata": {},
   "source": [
    "# 地価"
   ]
  },
  {
   "cell_type": "code",
   "execution_count": 144,
   "metadata": {},
   "outputs": [],
   "source": [
    "import xml.etree.ElementTree as ET\n",
    "import geopandas\n",
    "import feather"
   ]
  },
  {
   "cell_type": "code",
   "execution_count": 145,
   "metadata": {},
   "outputs": [],
   "source": [
    "geoson = geopandas.read_file(\"../input/L01-19_13_GML/L01-19_13.geojson\")"
   ]
  },
  {
   "cell_type": "code",
   "execution_count": 146,
   "metadata": {},
   "outputs": [
    {
     "name": "stderr",
     "output_type": "stream",
     "text": [
      "/Users/ueda/.pyenv/versions/3.6.5/lib/python3.6/site-packages/geopandas/geodataframe.py:546: UserWarning: Boolean Series key will be reindexed to match DataFrame index.\n",
      "  result = super(GeoDataFrame, self).__getitem__(key)\n"
     ]
    }
   ],
   "source": [
    "geoson = geoson[geoson.centroid.x.astype(int) == 139][geoson.centroid.y.astype(int) == 35]\n",
    "geoson = geoson[[\"geometry\", \"L01_006\", \"L01_024\", \"L01_045\", \"L01_046\"]]\n",
    "geoson[[\"L01_006\", \"L01_024\", \"L01_046\"]] = geoson[[\"L01_006\", \"L01_024\", \"L01_046\"]].astype(int)\n",
    "\n",
    "#006:価格、 024:地籍、　046:駅からの距離"
   ]
  },
  {
   "cell_type": "code",
   "execution_count": 147,
   "metadata": {},
   "outputs": [],
   "source": [
    "#geoson[\"L01_045\"].value_counts().to_dict()\n",
    "all_eki_df[\"eki0_name\"]\n",
    "all_eki_df[\"eki0_tika\"] = all_eki_df[\"eki0_name\"].map(geoson.groupby(\"L01_045\").mean()[\"L01_006\"])\n",
    "all_eki_df[\"eki1_tika\"] = all_eki_df[\"eki1_name\"].map(geoson.groupby(\"L01_045\").mean()[\"L01_006\"])\n",
    "all_eki_df[\"eki2_tika\"] = all_eki_df[\"eki2_name\"].map(geoson.groupby(\"L01_045\").mean()[\"L01_006\"])"
   ]
  },
  {
   "cell_type": "code",
   "execution_count": 149,
   "metadata": {},
   "outputs": [
    {
     "name": "stderr",
     "output_type": "stream",
     "text": [
      "/Users/ueda/.pyenv/versions/3.6.5/lib/python3.6/site-packages/ipykernel_launcher.py:2: SettingWithCopyWarning: \n",
      "A value is trying to be set on a copy of a slice from a DataFrame.\n",
      "Try using .loc[row_indexer,col_indexer] = value instead\n",
      "\n",
      "See the caveats in the documentation: http://pandas.pydata.org/pandas-docs/stable/user_guide/indexing.html#returning-a-view-versus-a-copy\n",
      "  \n",
      "/Users/ueda/.pyenv/versions/3.6.5/lib/python3.6/site-packages/ipykernel_launcher.py:3: SettingWithCopyWarning: \n",
      "A value is trying to be set on a copy of a slice from a DataFrame.\n",
      "Try using .loc[row_indexer,col_indexer] = value instead\n",
      "\n",
      "See the caveats in the documentation: http://pandas.pydata.org/pandas-docs/stable/user_guide/indexing.html#returning-a-view-versus-a-copy\n",
      "  This is separate from the ipykernel package so we can avoid doing imports until\n",
      "/Users/ueda/.pyenv/versions/3.6.5/lib/python3.6/site-packages/ipykernel_launcher.py:4: SettingWithCopyWarning: \n",
      "A value is trying to be set on a copy of a slice from a DataFrame.\n",
      "Try using .loc[row_indexer,col_indexer] = value instead\n",
      "\n",
      "See the caveats in the documentation: http://pandas.pydata.org/pandas-docs/stable/user_guide/indexing.html#returning-a-view-versus-a-copy\n",
      "  after removing the cwd from sys.path.\n",
      "/Users/ueda/.pyenv/versions/3.6.5/lib/python3.6/site-packages/ipykernel_launcher.py:5: SettingWithCopyWarning: \n",
      "A value is trying to be set on a copy of a slice from a DataFrame.\n",
      "Try using .loc[row_indexer,col_indexer] = value instead\n",
      "\n",
      "See the caveats in the documentation: http://pandas.pydata.org/pandas-docs/stable/user_guide/indexing.html#returning-a-view-versus-a-copy\n",
      "  \"\"\"\n"
     ]
    }
   ],
   "source": [
    "tika_df = all_eki_df[[\"eki0_tika\", \"eki1_tika\", \"eki2_tika\"]]\n",
    "tika_df[\"tika_mean\"] = tika_df.mean(axis=1)\n",
    "tika_df[\"tika_min\"] = tika_df.min(axis=1)\n",
    "tika_df[\"tika_max\"] = tika_df.max(axis=1)\n",
    "tika_df[\"tika_std\"] = tika_df.std(axis=1)"
   ]
  },
  {
   "cell_type": "code",
   "execution_count": 157,
   "metadata": {},
   "outputs": [
    {
     "name": "stderr",
     "output_type": "stream",
     "text": [
      "/Users/ueda/.pyenv/versions/3.6.5/lib/python3.6/site-packages/ipykernel_launcher.py:1: SettingWithCopyWarning: \n",
      "A value is trying to be set on a copy of a slice from a DataFrame.\n",
      "Try using .loc[row_indexer,col_indexer] = value instead\n",
      "\n",
      "See the caveats in the documentation: http://pandas.pydata.org/pandas-docs/stable/user_guide/indexing.html#returning-a-view-versus-a-copy\n",
      "  \"\"\"Entry point for launching an IPython kernel.\n"
     ]
    }
   ],
   "source": [
    "tika_df[\"tika×area\"] = tika_df[\"tika_mean\"] * all_df[\"float面積\"]"
   ]
  },
  {
   "cell_type": "code",
   "execution_count": 158,
   "metadata": {},
   "outputs": [
    {
     "data": {
      "text/plain": [
       "Index(['eki0_tika', 'eki1_tika', 'eki2_tika', 'tika_mean', 'tika_min',\n",
       "       'tika_max', 'tika_std', 'tika×area'],\n",
       "      dtype='object')"
      ]
     },
     "execution_count": 158,
     "metadata": {},
     "output_type": "execute_result"
    }
   ],
   "source": [
    "output_dir = '../code/feature_csv/'\n",
    "tika_df.to_feather(os.path.join(output_dir, 'tika_feature.feather'))\n",
    "tika_df.columns"
   ]
  },
  {
   "cell_type": "code",
   "execution_count": null,
   "metadata": {},
   "outputs": [],
   "source": []
  },
  {
   "cell_type": "code",
   "execution_count": 127,
   "metadata": {},
   "outputs": [
    {
     "data": {
      "text/plain": [
       "62732"
      ]
     },
     "execution_count": 127,
     "metadata": {},
     "output_type": "execute_result"
    }
   ],
   "source": [
    "len(train+test)"
   ]
  }
 ],
 "metadata": {
  "kernelspec": {
   "display_name": "Python 3",
   "language": "python",
   "name": "python3"
  },
  "language_info": {
   "codemirror_mode": {
    "name": "ipython",
    "version": 3
   },
   "file_extension": ".py",
   "mimetype": "text/x-python",
   "name": "python",
   "nbconvert_exporter": "python",
   "pygments_lexer": "ipython3",
   "version": "3.6.5"
  }
 },
 "nbformat": 4,
 "nbformat_minor": 4
}
