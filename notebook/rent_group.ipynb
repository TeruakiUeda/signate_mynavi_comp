{
 "cells": [
  {
   "cell_type": "code",
   "execution_count": 1,
   "metadata": {},
   "outputs": [],
   "source": [
    "import os\n",
    "import pandas as pd\n",
    "import numpy as np\n",
    "import geocoder\n",
    "import feather\n",
    "import re\n",
    "from sklearn.model_selection import StratifiedKFold\n",
    "from sklearn.model_selection import GroupKFold\n",
    "from tqdm import tqdm_notebook as tqdm"
   ]
  },
  {
   "cell_type": "code",
   "execution_count": 2,
   "metadata": {},
   "outputs": [
    {
     "name": "stderr",
     "output_type": "stream",
     "text": [
      "/Users/ueda/.pyenv/versions/3.6.5/lib/python3.6/site-packages/ipykernel_launcher.py:9: FutureWarning: Sorting because non-concatenation axis is not aligned. A future version\n",
      "of pandas will change to not sort by default.\n",
      "\n",
      "To accept the future behavior, pass 'sort=False'.\n",
      "\n",
      "To retain the current behavior and silence the warning, pass 'sort=True'.\n",
      "\n",
      "  if __name__ == '__main__':\n"
     ]
    }
   ],
   "source": [
    "FOLDS_PATH = \"../input/mynavi_Stratifiedfold_same_build.feather\"\n",
    "train = feather.read_dataframe(FOLDS_PATH)\n",
    "n_train = len(train)\n",
    "target = train[\"賃料\"]\n",
    "test = pd.read_csv('../input/test.csv')\n",
    "\n",
    "train_length = train.shape[0]\n",
    "test_length = test.shape[0]\n",
    "all_df = pd.concat([train, test], axis=0, ignore_index=True)\n",
    "\n",
    "\n",
    "access = feather.read_dataframe(\"../code/feature_csv/access_feature.feather\")\n",
    "all_df = pd.concat([all_df, access], axis=1)\n",
    "base = feather.read_dataframe(\"../code/feature_csv/base_feature1.feather\")\n",
    "all_df = pd.concat([all_df, base], axis=1)\n",
    "\n",
    "org_columns = all_df.columns"
   ]
  },
  {
   "cell_type": "code",
   "execution_count": 3,
   "metadata": {},
   "outputs": [],
   "source": [
    "def modify_miss(df_input):\n",
    "    df_input.loc[df_input[\"間取り\"].str.contains(\"11R\"), \"間取り\"] = \"1R\"\n",
    "    \n",
    "    df_input.loc[df_input[\"築年数\"].str.contains(\"520年5ヶ月\"), \"築年数\"] = \"52年5ヶ月\"\n",
    "    \n",
    "    df_input.loc[df_input[\"築年数\"].str.contains(\"1019年7ヶ月\"), \"築年数\"] = \"19年7ヶ月\"\n",
    "    \n",
    "    df_input.loc[df_input[\"面積\"].str.contains(\"430.1m2\"), \"面積\"] = \"43.01m2\"\n",
    "\n",
    "    df_input.loc[df_input[\"面積\"].str.contains(\"1m2\"), \"面積\"] = \"10m2\"\n",
    "    df_input.loc[df_input[\"面積\"].str.contains(\"5.83m2\"), \"面積\"] = \"58.3m2\"\n",
    "    \"三田線 三田(兵庫県)駅 徒歩14分\"\n",
    "    \n",
    "    return df_input\n",
    "\n",
    "def modify_rent(target, df_input):\n",
    "    \"\"\" id == 5776 で賃料の0が一つ多い\"\"\"\n",
    "    target = np.where(df_input[\"id\"]==5776, 120350, target)\n",
    "    \n",
    "    return target\n",
    "\n",
    "all_df = modify_miss(all_df)\n",
    "\n",
    "all_df[\"賃料\"] = modify_rent(all_df[\"賃料\"], all_df)\n",
    "\n",
    "all_df[\"same_build\"] = all_df[\"building_floor\"].astype(str) + all_df[\"地域_n丁目\"] + all_df[\"int築年\"].astype(str)"
   ]
  },
  {
   "cell_type": "code",
   "execution_count": 4,
   "metadata": {},
   "outputs": [
    {
     "data": {
      "text/plain": [
       "array(['fold_id', 'id', 'same_build', 'アクセス', 'キッチン', 'バス・トイレ', '周辺環境',\n",
       "       '契約期間', '室内設備', '建物構造', '所在地', '所在階', '放送・通信', '方角', '築年数', '賃料',\n",
       "       '間取り', '面積', '駐車場', '路線_0', '駅_0', '駅からの距離_0', '路線_1', '駅_1',\n",
       "       '駅からの距離_1', '路線_2', '駅_2', '駅からの距離_2', '駅_0からの距離_mean',\n",
       "       '駅_0からの距離_std', '駅_0からの距離_min', '駅_0からの距離_max', '駅_1からの距離_mean',\n",
       "       '駅_1からの距離_std', '駅_1からの距離_min', '駅_1からの距離_max', '駅_2からの距離_mean',\n",
       "       '駅_2からの距離_std', '駅_2からの距離_min', '駅_2からの距離_max', '路線_0_counts',\n",
       "       '路線_1_counts', '路線_2_counts', '駅_0_counts', '駅_1_counts',\n",
       "       '駅_2_counts', '路線_counts_max', '路線_counts_mean', '路線_counts_min',\n",
       "       '路線_counts_std', '駅_counts_max', '駅_counts_mean', '駅_counts_min',\n",
       "       '駅_counts_std', '距離_max', '距離_min', '距離_mean', '距離_std',\n",
       "       '路線_0_counts/距離', '路線_1_counts/距離', '路線_2_counts/距離',\n",
       "       '駅_0_counts/距離', '駅_1_counts/距離', '駅_2_counts/距離',\n",
       "       '路線counts/距離_max', '路線counts/距離_mean', '路線counts/距離_min',\n",
       "       '路線counts/距離_std', '駅counts/距離_max', '駅counts/距離_mean',\n",
       "       '駅counts/距離_min', '駅counts/距離_std', '駅_0からの距離_mean_diff',\n",
       "       '駅_1からの距離_mean_diff', '駅_2からの距離_mean_diff', 'access_way_count',\n",
       "       '駅_0_緯度', '駅_0_経度', '駅_1_緯度', '駅_1_経度', '駅_2_緯度', '駅_2_経度',\n",
       "       'catuse_駅_0', 'catuse_路線_0', 'int方角', 'num_of_NULL',\n",
       "       '周辺環境_element_counts', '室内設備_element_counts',\n",
       "       'バス・トイレ_element_counts', 'キッチン_element_counts',\n",
       "       '放送・通信_element_counts', '設備和', 'count_num_of_NULL',\n",
       "       'count_周辺環境_element_counts', 'count_室内設備_element_counts',\n",
       "       'count_バス・トイレ_element_counts', 'count_キッチン_element_counts',\n",
       "       'count_放送・通信_element_counts', 'count_設備和', 'count_所在地',\n",
       "       'count_アクセス', 'count_間取り', 'count_築年数', 'count_方角', 'count_面積',\n",
       "       'count_所在階', 'count_バス・トイレ', 'count_キッチン', 'count_放送・通信',\n",
       "       'count_室内設備', 'count_駐車場', 'count_周辺環境', 'count_建物構造',\n",
       "       'count_契約期間', 'count_区緯度', 'count_区経度', 'float面積', '新築', 'int築年',\n",
       "       'int築月', '築月数', 'count_int築年', 'count_int築月', 'count_築月数', '所在_区',\n",
       "       '所在_区_count', '地域名', 'count_地域名', '地域_n丁目', 'count_地域_n丁目',\n",
       "       '区_GMM0', '区_GMM1', '区_GMM2', 'living_floor', '一戸建て',\n",
       "       'building_floor', 'cat_building_height', 'living/building',\n",
       "       'count_living_floor', 'count_building_floor',\n",
       "       'count_cat_building_height', 'count_living/building', 'int間取り',\n",
       "       'cat_int間取り', '納戸', '間取りtype', 'count_int間取り', 'count_間取りtype',\n",
       "       '定期借家', 'contract_period', 'int建物構造', 'has_デパート', 'has_ドラッグストア',\n",
       "       'has_大学', 'has_スーパー', 'has_コンビニ', 'has_病院', 'has_銀行', 'has_図書館',\n",
       "       'has_学校', 'has_レンタルビデオ', 'has_郵便局', 'has_幼稚園・保育園', 'has_総合病院',\n",
       "       'has_クリーニング', 'has_コインパーキング', 'has_飲食店', 'has_月極駐車場', 'has_小学校',\n",
       "       'has_公園', 'num_of_facilities_type', 'デパート', 'ドラッグストア', '大学',\n",
       "       'コンビニ', 'スーパー', '病院', '銀行', '図書館', '学校', 'レンタルビデオ', '郵便局',\n",
       "       '幼稚園・保育園', '総合病院', 'クリーニング', 'コインパーキング', '飲食店', '月極駐車場', '小学校',\n",
       "       '公園', 'min_facilities', 'max_facilities', 'mean_facilities',\n",
       "       'std_facilities'], dtype=object)"
      ]
     },
     "execution_count": 4,
     "metadata": {},
     "output_type": "execute_result"
    }
   ],
   "source": [
    "org_columns.values"
   ]
  },
  {
   "cell_type": "code",
   "execution_count": 5,
   "metadata": {},
   "outputs": [],
   "source": [
    "train = all_df[:n_train]\n",
    "test = all_df[n_train:]"
   ]
  },
  {
   "cell_type": "code",
   "execution_count": 6,
   "metadata": {},
   "outputs": [
    {
     "name": "stderr",
     "output_type": "stream",
     "text": [
      "/Users/ueda/.pyenv/versions/3.6.5/lib/python3.6/site-packages/ipykernel_launcher.py:1: SettingWithCopyWarning: \n",
      "A value is trying to be set on a copy of a slice from a DataFrame.\n",
      "Try using .loc[row_indexer,col_indexer] = value instead\n",
      "\n",
      "See the caveats in the documentation: http://pandas.pydata.org/pandas-docs/stable/user_guide/indexing.html#returning-a-view-versus-a-copy\n",
      "  \"\"\"Entry point for launching an IPython kernel.\n",
      "/Users/ueda/.pyenv/versions/3.6.5/lib/python3.6/site-packages/ipykernel_launcher.py:2: SettingWithCopyWarning: \n",
      "A value is trying to be set on a copy of a slice from a DataFrame.\n",
      "Try using .loc[row_indexer,col_indexer] = value instead\n",
      "\n",
      "See the caveats in the documentation: http://pandas.pydata.org/pandas-docs/stable/user_guide/indexing.html#returning-a-view-versus-a-copy\n",
      "  \n"
     ]
    }
   ],
   "source": [
    "train[\"賃料per面積\"] = train[\"賃料\"] / train[\"float面積\"]\n",
    "test[\"賃料per面積\"] = np.nan\n",
    "\n",
    "#train_y = train[\"賃料\"]\n",
    "train_y = train[\"賃料per面積\"]\n",
    "folds = train[\"fold_id\"]"
   ]
  },
  {
   "cell_type": "code",
   "execution_count": 7,
   "metadata": {},
   "outputs": [
    {
     "data": {
      "application/vnd.jupyter.widget-view+json": {
       "model_id": "76bee6f856324c6397cc247569bfcac3",
       "version_major": 2,
       "version_minor": 0
      },
      "text/plain": [
       "HBox(children=(IntProgress(value=0, max=10), HTML(value='')))"
      ]
     },
     "metadata": {},
     "output_type": "display_data"
    },
    {
     "name": "stderr",
     "output_type": "stream",
     "text": [
      "/Users/ueda/.pyenv/versions/3.6.5/lib/python3.6/site-packages/ipykernel_launcher.py:13: SettingWithCopyWarning: \n",
      "A value is trying to be set on a copy of a slice from a DataFrame.\n",
      "Try using .loc[row_indexer,col_indexer] = value instead\n",
      "\n",
      "See the caveats in the documentation: http://pandas.pydata.org/pandas-docs/stable/user_guide/indexing.html#returning-a-view-versus-a-copy\n",
      "  del sys.path[0]\n"
     ]
    },
    {
     "name": "stdout",
     "output_type": "stream",
     "text": [
      "\n"
     ]
    },
    {
     "data": {
      "application/vnd.jupyter.widget-view+json": {
       "model_id": "f5211300f97944a9b3b736b2a9344937",
       "version_major": 2,
       "version_minor": 0
      },
      "text/plain": [
       "HBox(children=(IntProgress(value=0, max=5), HTML(value='')))"
      ]
     },
     "metadata": {},
     "output_type": "display_data"
    },
    {
     "name": "stderr",
     "output_type": "stream",
     "text": [
      "/Users/ueda/.pyenv/versions/3.6.5/lib/python3.6/site-packages/ipykernel_launcher.py:47: FutureWarning: Sorting because non-concatenation axis is not aligned. A future version\n",
      "of pandas will change to not sort by default.\n",
      "\n",
      "To accept the future behavior, pass 'sort=False'.\n",
      "\n",
      "To retain the current behavior and silence the warning, pass 'sort=True'.\n",
      "\n",
      "/Users/ueda/.pyenv/versions/3.6.5/lib/python3.6/site-packages/ipykernel_launcher.py:47: FutureWarning: Sorting because non-concatenation axis is not aligned. A future version\n",
      "of pandas will change to not sort by default.\n",
      "\n",
      "To accept the future behavior, pass 'sort=False'.\n",
      "\n",
      "To retain the current behavior and silence the warning, pass 'sort=True'.\n",
      "\n",
      "/Users/ueda/.pyenv/versions/3.6.5/lib/python3.6/site-packages/ipykernel_launcher.py:47: FutureWarning: Sorting because non-concatenation axis is not aligned. A future version\n",
      "of pandas will change to not sort by default.\n",
      "\n",
      "To accept the future behavior, pass 'sort=False'.\n",
      "\n",
      "To retain the current behavior and silence the warning, pass 'sort=True'.\n",
      "\n",
      "/Users/ueda/.pyenv/versions/3.6.5/lib/python3.6/site-packages/ipykernel_launcher.py:47: FutureWarning: Sorting because non-concatenation axis is not aligned. A future version\n",
      "of pandas will change to not sort by default.\n",
      "\n",
      "To accept the future behavior, pass 'sort=False'.\n",
      "\n",
      "To retain the current behavior and silence the warning, pass 'sort=True'.\n",
      "\n"
     ]
    },
    {
     "name": "stdout",
     "output_type": "stream",
     "text": [
      "\n"
     ]
    },
    {
     "name": "stderr",
     "output_type": "stream",
     "text": [
      "/Users/ueda/.pyenv/versions/3.6.5/lib/python3.6/site-packages/ipykernel_launcher.py:47: FutureWarning: Sorting because non-concatenation axis is not aligned. A future version\n",
      "of pandas will change to not sort by default.\n",
      "\n",
      "To accept the future behavior, pass 'sort=False'.\n",
      "\n",
      "To retain the current behavior and silence the warning, pass 'sort=True'.\n",
      "\n"
     ]
    }
   ],
   "source": [
    "target = \"賃料per面積\"    #所在_区 での面積　あたりの値段\n",
    "columns = [\"所在_区\", \"間取りtype\", 'catuse_路線_0', 'catuse_駅_0', 'アクセス',\n",
    "           \"cat_int間取り\", \"cat_building_height\", \"地域名\", '地域_n丁目', \"same_build\"\n",
    "          ]\n",
    "stat = \"mean\"\n",
    "how_to_make_in_fold = \"group\"\n",
    "result = []\n",
    "n_split = 4\n",
    "\n",
    "for column in tqdm(columns):\n",
    "    data_tmp = pd.DataFrame({column:train[column], target:train[target]})\n",
    "    target_mean = data_tmp.groupby(column)[target].mean()\n",
    "    test[column] = test[column].map(target_mean)\n",
    "\n",
    "for i in tqdm(range(folds.nunique())):\n",
    "    tr_x, va_x = train[train[\"fold_id\"]!=i].copy(), train[train[\"fold_id\"]==i].copy()\n",
    "    tr_y, va_y = train_y[train[\"fold_id\"]!=i].copy(), train_y[train[\"fold_id\"]==i].copy()\n",
    "    \n",
    "    tr_x = tr_x.reset_index(drop=True)\n",
    "    tr_y = tr_y.reset_index(drop=True)\n",
    "    tr_x[\"foldINfold_id\"] = np.nan\n",
    "    if how_to_make_in_fold == \"str\":\n",
    "        skf_encoding = StratifiedKFold(n_splits=4, shuffle=True, random_state=100)\n",
    "        for i, (train_index, valid_index) in enumerate(skf_encoding.split(tr_x[\"id\"], tr_x[\"same_build\"])):\n",
    "            tr_x.loc[valid_index, \"foldINfold_id\"] = i\n",
    "    \n",
    "    if how_to_make_in_fold == \"group\":\n",
    "        grp_encoding = GroupKFold(n_splits=4)\n",
    "        for i, (train_index, valid_index) in enumerate(grp_encoding.split(tr_x[\"id\"], tr_x[\"same_build\"], tr_x[\"id\"])):\n",
    "            tr_x.loc[valid_index, \"foldINfold_id\"] = i\n",
    "    \n",
    "    \n",
    "    for column in columns:\n",
    "        data_tmp = pd.DataFrame({column:tr_x[column], target:tr_y, \"foldINfold\":tr_x[\"foldINfold_id\"]})\n",
    "        target_mean = data_tmp.groupby(column)[target].mean()\n",
    "        va_x.loc[:, column] = va_x[column].map(target_mean)\n",
    "        #va_x[column] = va_x[column].map(target_mean) #これあかんのん？\n",
    "\n",
    "        tmp = np.repeat(np.nan, tr_x.shape[0])\n",
    "\n",
    "        for i in range(n_split):\n",
    "            target_mean = data_tmp[tr_x[\"foldINfold_id\"]!=i].groupby(column)[target].mean()\n",
    "            tmp[tr_x[\"foldINfold_id\"]==i] = tr_x[column][tr_x[\"foldINfold_id\"]==i].map(target_mean)\n",
    "\n",
    "        tr_x.loc[:, column] = tmp\n",
    "    \n",
    "    tmp = pd.concat([tr_x, va_x])\n",
    "    result.append(tmp)\n",
    "    \n",
    "\n",
    "# merge:ver 1min 1s\n",
    "# map:ver    4.28 s"
   ]
  },
  {
   "cell_type": "code",
   "execution_count": 8,
   "metadata": {},
   "outputs": [
    {
     "data": {
      "application/vnd.jupyter.widget-view+json": {
       "model_id": "204459887d804ee5b95cb28ccf6660c6",
       "version_major": 2,
       "version_minor": 0
      },
      "text/plain": [
       "HBox(children=(IntProgress(value=0, max=5), HTML(value='')))"
      ]
     },
     "metadata": {},
     "output_type": "display_data"
    },
    {
     "name": "stdout",
     "output_type": "stream",
     "text": [
      "\n"
     ]
    }
   ],
   "source": [
    "output_dir = '../code/feature_csv/'\n",
    "\n",
    "\"\"\" target encoding 後のtest保存 \"\"\"\n",
    "test.to_csv(os.path.join(output_dir, f'target_encoding_test.csv'), index = False)\n",
    "\n",
    "\"\"\"\"\"\"\n",
    "for i in tqdm(range(folds.nunique())):\n",
    "    if how_to_make_in_fold == \"group\":\n",
    "        result[i] = result[i].sort_values(\"id\")\n",
    "        result[i][columns + [\"id\", \"fold_id\"]].to_csv(os.path.join(output_dir, f'target_encoding_groupfold{i}.csv'), index = False)\n",
    "    \n",
    "    if how_to_make_in_fold == \"str\":\n",
    "        result[i] = result[i].sort_values(\"id\")\n",
    "        result[i][columns + [\"id\", \"fold_id\"]].to_csv(os.path.join(output_dir, f'target_encoding_strfold{i}.csv'), index = False)\n",
    "    #f'../code/feature_csv/target_encoding_fold{i}.csv'"
   ]
  },
  {
   "cell_type": "code",
   "execution_count": 9,
   "metadata": {},
   "outputs": [
    {
     "data": {
      "text/plain": [
       "所在_区                       1\n",
       "間取りtype                    0\n",
       "catuse_路線_0                0\n",
       "catuse_駅_0                 0\n",
       "アクセス                   22570\n",
       "cat_int間取り                 0\n",
       "cat_building_height        0\n",
       "地域名                       72\n",
       "地域_n丁目                   900\n",
       "same_build             15180\n",
       "dtype: int64"
      ]
     },
     "execution_count": 9,
     "metadata": {},
     "output_type": "execute_result"
    }
   ],
   "source": [
    "result[0][columns].isnull().sum()"
   ]
  },
  {
   "cell_type": "code",
   "execution_count": 13,
   "metadata": {},
   "outputs": [
    {
     "data": {
      "text/plain": [
       "31470             NaN\n",
       "31471     5427.587307\n",
       "31472     2784.998143\n",
       "31473             NaN\n",
       "31474     1800.000000\n",
       "             ...     \n",
       "62727     3931.590623\n",
       "62728     9925.000000\n",
       "62729     3755.294854\n",
       "62730    16466.774654\n",
       "62731     3824.362606\n",
       "Name: same_build, Length: 31262, dtype: float64"
      ]
     },
     "execution_count": 13,
     "metadata": {},
     "output_type": "execute_result"
    }
   ],
   "source": [
    "#result[0].sort_values(\"id\")\n",
    "\"\"\"a = result[4]\n",
    "v = a[a[\"fold_id\"]==0]\n",
    "t = a[a[\"fold_id\"]!=0][columns + [\"id\"]]\n",
    "a[a[\"fold_id\"]!=4]\"\"\"\n",
    "test[\"same_build\"]"
   ]
  }
 ],
 "metadata": {
  "kernelspec": {
   "display_name": "Python 3",
   "language": "python",
   "name": "python3"
  },
  "language_info": {
   "codemirror_mode": {
    "name": "ipython",
    "version": 3
   },
   "file_extension": ".py",
   "mimetype": "text/x-python",
   "name": "python",
   "nbconvert_exporter": "python",
   "pygments_lexer": "ipython3",
   "version": "3.6.5"
  }
 },
 "nbformat": 4,
 "nbformat_minor": 4
}
