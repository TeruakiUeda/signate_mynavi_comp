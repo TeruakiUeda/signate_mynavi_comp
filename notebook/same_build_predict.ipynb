{
 "cells": [
  {
   "cell_type": "code",
   "execution_count": 1,
   "metadata": {},
   "outputs": [],
   "source": [
    "import re\n",
    "import matplotlib.pyplot as plt\n",
    "import scipy.stats as stats\n",
    "import pandas as pd\n",
    "import numpy as np\n",
    "from sklearn.linear_model import BayesianRidge, LinearRegression, Ridge\n",
    "pd.set_option('display.max_rows', 500)\n",
    "\n",
    "import warnings\n",
    "from tqdm import tqdm_notebook as tqdm\n",
    "warnings.filterwarnings('ignore')"
   ]
  },
  {
   "cell_type": "code",
   "execution_count": 2,
   "metadata": {},
   "outputs": [],
   "source": [
    "DATA_PATH = \"../output/vs_trains/*\"\n",
    "TRAIN_PATH = \"../input/train.csv\"\n",
    "TEST_PATH = \"../input/test.csv\"\n",
    "train = pd.read_csv(TRAIN_PATH)\n",
    "test = pd.read_csv(TEST_PATH)\n",
    "all_df = pd.concat([train,test], axis = 0, sort=True)\n",
    "all_df = all_df.reset_index(drop=True)"
   ]
  },
  {
   "cell_type": "code",
   "execution_count": 3,
   "metadata": {},
   "outputs": [
    {
     "data": {
      "text/html": [
       "<div>\n",
       "<style scoped>\n",
       "    .dataframe tbody tr th:only-of-type {\n",
       "        vertical-align: middle;\n",
       "    }\n",
       "\n",
       "    .dataframe tbody tr th {\n",
       "        vertical-align: top;\n",
       "    }\n",
       "\n",
       "    .dataframe thead th {\n",
       "        text-align: right;\n",
       "    }\n",
       "</style>\n",
       "<table border=\"1\" class=\"dataframe\">\n",
       "  <thead>\n",
       "    <tr style=\"text-align: right;\">\n",
       "      <th></th>\n",
       "      <th>id</th>\n",
       "      <th>アクセス</th>\n",
       "      <th>キッチン</th>\n",
       "      <th>バス・トイレ</th>\n",
       "      <th>周辺環境</th>\n",
       "      <th>契約期間</th>\n",
       "      <th>室内設備</th>\n",
       "      <th>建物構造</th>\n",
       "      <th>所在地</th>\n",
       "      <th>所在階</th>\n",
       "      <th>放送・通信</th>\n",
       "      <th>方角</th>\n",
       "      <th>築年数</th>\n",
       "      <th>賃料</th>\n",
       "      <th>間取り</th>\n",
       "      <th>面積</th>\n",
       "      <th>駐車場</th>\n",
       "    </tr>\n",
       "  </thead>\n",
       "  <tbody>\n",
       "    <tr>\n",
       "      <th>860</th>\n",
       "      <td>861</td>\n",
       "      <td>総武本線\\t馬喰町駅\\t徒歩4分\\t\\t都営浅草線\\t浅草橋駅\\t徒歩4分</td>\n",
       "      <td>ガスコンロ／\\tコンロ3口／\\tシステムキッチン</td>\n",
       "      <td>専用バス／\\t専用トイレ／\\tバス・トイレ別／\\tシャワー／\\t追焚機能／\\t浴室乾燥機\\t...</td>\n",
       "      <td>NaN</td>\n",
       "      <td>NaN</td>\n",
       "      <td>冷房／\\tエアコン付\\tシューズボックス／\\tバルコニー／\\tフローリング／\\t24時間換気...</td>\n",
       "      <td>RC（鉄筋コンクリート）</td>\n",
       "      <td>東京都中央区日本橋馬喰町２丁目</td>\n",
       "      <td>2階／12階建</td>\n",
       "      <td>インターネット対応／\\t光ファイバー／\\tCSアンテナ／\\tBSアンテナ</td>\n",
       "      <td>南</td>\n",
       "      <td>0年3ヶ月</td>\n",
       "      <td>205000.0</td>\n",
       "      <td>1LDK</td>\n",
       "      <td>43.1m2</td>\n",
       "      <td>駐車場\\t空有\\t43,200円\\t駐輪場\\t空有</td>\n",
       "    </tr>\n",
       "  </tbody>\n",
       "</table>\n",
       "</div>"
      ],
      "text/plain": [
       "      id                                   アクセス                      キッチン  \\\n",
       "860  861  総武本線\\t馬喰町駅\\t徒歩4分\\t\\t都営浅草線\\t浅草橋駅\\t徒歩4分  ガスコンロ／\\tコンロ3口／\\tシステムキッチン   \n",
       "\n",
       "                                                バス・トイレ 周辺環境 契約期間  \\\n",
       "860  専用バス／\\t専用トイレ／\\tバス・トイレ別／\\tシャワー／\\t追焚機能／\\t浴室乾燥機\\t...  NaN  NaN   \n",
       "\n",
       "                                                  室内設備          建物構造  \\\n",
       "860  冷房／\\tエアコン付\\tシューズボックス／\\tバルコニー／\\tフローリング／\\t24時間換気...  RC（鉄筋コンクリート）   \n",
       "\n",
       "                 所在地      所在階                                 放送・通信 方角    築年数  \\\n",
       "860  東京都中央区日本橋馬喰町２丁目  2階／12階建  インターネット対応／\\t光ファイバー／\\tCSアンテナ／\\tBSアンテナ  南  0年3ヶ月   \n",
       "\n",
       "           賃料   間取り      面積                        駐車場  \n",
       "860  205000.0  1LDK  43.1m2  駐車場\\t空有\\t43,200円\\t駐輪場\\t空有  "
      ]
     },
     "execution_count": 3,
     "metadata": {},
     "output_type": "execute_result"
    }
   ],
   "source": [
    "all_df[all_df[\"アクセス\"].str.contains('総武本線\\t馬喰町駅\\t徒歩4分\\t\\t都営浅草線\\t浅草橋駅\\t徒歩4分')].head(1)"
   ]
  },
  {
   "cell_type": "code",
   "execution_count": 4,
   "metadata": {},
   "outputs": [],
   "source": [
    "def built_floor_feature(df_input):\n",
    "    df_out = pd.DataFrame()\n",
    "    df_out[\"living_floor\"] = df_input[\"所在階\"].str.split('／', expand=True)[0].str.split(\"（\", expand=True)[0].str.replace('[^0-9]', '').fillna(0)\n",
    "    cnt = -1\n",
    "    for i in df_out[\"living_floor\"]:\n",
    "        cnt += 1\n",
    "        if len(str(i)) == 0:\n",
    "            df_out[\"living_floor\"][df_out[\"living_floor\"].index[cnt]]=np.nan\n",
    "            \n",
    "    df_out[\"building_floor\"] = df_input[\"所在階\"].str.split('／', expand=True)[1].str.split(\"（\", expand=True)[0].str.replace('[^0-9]', '').fillna(0)\n",
    "    return df_out\n",
    "\n",
    "\n",
    "def area_feature(df_input):\n",
    "    df_out = pd.DataFrame()\n",
    "    s = df_input[\"面積\"]\n",
    "    df_out[\"int面積\"] = [int(float(i.split(\"m2\")[0])) for i in s]\n",
    "    return df_out\n",
    "\n",
    "\n",
    "def element_count_feature(df_input):\n",
    "    \"\"\"要素数数え\"\"\"\n",
    "    df_out = pd.DataFrame()\n",
    "    #df_out[\"num_of_NULL\"] = df_input.isnull().sum(axis=1)\n",
    "    \n",
    "    #df_out[\"周辺環境_element_counts\"] = df_input[\"周辺環境\"].str.count(\"【\").fillna(0)\n",
    "    df_out[\"室内設備_element_counts\"] = df_input[\"室内設備\"].str.count(\"\\t\").fillna(-1)+1\n",
    "    df_out[\"バス・トイレ_element_counts\"] = df_input[\"バス・トイレ\"].str.count(\"\\t\").fillna(-1)+1\n",
    "    df_out[\"キッチン_element_counts\"] = df_input[\"キッチン\"].str.count(\"\\t\").fillna(-1)+1\n",
    "    df_out[\"放送・通信_element_counts\"] = df_input[\"放送・通信\"].str.count(\"\\t\").fillna(-1)+1\n",
    "    \n",
    "    #df_out[\"設備和\"] = df_out[[col for col in df_out.columns if col != \"num_of_NULL\"]].sum(axis=1)\n",
    "    \n",
    "    #df_count = pd.concat([count_encoding(df_out, column) for column in df_out.columns], axis=1)\n",
    "    #df_out = pd.concat([df_out,df_count], axis=1)\n",
    "    return df_out\n",
    "\n",
    "def direction_feature(df_input):\n",
    "    \"\"\"価格の高い順に値振り分け　南は高いらしい\"\"\"\n",
    "    df_out = pd.DataFrame()\n",
    "    direct_dict= {'南':8, '東':5, '西':4, '南東':7, '南西':6, '北':1, '北西':2, '北東':3}\n",
    "    df_out[\"int方角\"] = df_input[\"方角\"].map(direct_dict)\n",
    "    \n",
    "    return df_out\n",
    "\n",
    "def madori_feature(df_input):\n",
    "    \"\"\"間取りの数字部分と、アルファベット部分でそれぞれ特徴量化、納戸フラグ\"\"\"\n",
    "    df_out = pd.DataFrame()\n",
    "    s = df_input[\"間取り\"]\n",
    "    #df_out[\"int間取り\"] = [int(re.sub('[^0-9]', \"\", i)) for i in s]\n",
    "    #df_out[\"cat_int間取り\"] = np.where(df_out[\"int間取り\"] > 4, 5, df_out[\"int間取り\"])\n",
    "    #df_out[\"cat_int間取り\"] = df_out[\"cat_int間取り\"].astype(str)\n",
    "    #df_out[\"納戸\"] = [1 if \"納戸\" in i else 0 for i in s]\n",
    "    madori_dict = {\"R\":1, \"K\":2, \"DK\":3, \"LDK\":4, \"LK\":4}\n",
    "    #df_out[\"間取りtype\"] = [re.sub('[0-9S(納戸)\\+]', \"\", i) for i in s]\n",
    "    #df_out[\"間取りtype\"] = df_out[\"間取りtype\"].map(madori_dict)\n",
    "    \n",
    "    #df_count = pd.concat([count_encoding(df_out, column) for column in df_out.columns if column not in [\"納戸\",\"cat_int間取り\"]], axis=1)\n",
    "    #df_out = pd.concat([df_out,df_count], axis=1)\n",
    "    \n",
    "    return df_out\n",
    "\n",
    "def modify_rent(target, df_input):\n",
    "    \"\"\" id == 5776 で賃料の0が一つ多い\"\"\"\n",
    "    target = np.where(df_input[\"id\"]==5776, 120350, target)\n",
    "    \n",
    "    return target"
   ]
  },
  {
   "cell_type": "code",
   "execution_count": 5,
   "metadata": {},
   "outputs": [],
   "source": [
    "#all_df[[\"living_floor\", \"building_floor\"]] = built_floor_feature(all_df)\n",
    "tmp_df = pd.concat([built_floor_feature(all_df), element_count_feature(all_df),\n",
    "                   madori_feature(all_df), direction_feature(all_df)], axis=1)\n",
    "all_df[\"int面積\"] = area_feature(all_df).values\n",
    "all_df = pd.concat([all_df, tmp_df], axis=1)"
   ]
  },
  {
   "cell_type": "code",
   "execution_count": 6,
   "metadata": {},
   "outputs": [
    {
     "data": {
      "text/plain": [
       "['室内設備_element_counts',\n",
       " 'バス・トイレ_element_counts',\n",
       " 'キッチン_element_counts',\n",
       " '放送・通信_element_counts',\n",
       " 'int方角']"
      ]
     },
     "execution_count": 6,
     "metadata": {},
     "output_type": "execute_result"
    }
   ],
   "source": [
    "#all_df[\"int面積1\"] = area_feature(all_df).values\n",
    "#all_df[\"int面積2\"] = area_feature(all_df)\n",
    "#(all_df[\"int面積1\"] == all_df[\"int面積2\"]).value_counts()\n",
    "add_col = [col for col in list(tmp_df.columns) if col not in [\"same_build\", \"living_floor\", \"int面積\", \"賃料\", \"id\", \"building_floor\"]]\n",
    "add_col"
   ]
  },
  {
   "cell_type": "code",
   "execution_count": 7,
   "metadata": {},
   "outputs": [],
   "source": [
    "all_df[\"same_build\"] = (all_df[\"building_floor\"].astype(str) + all_df[\"アクセス\"].astype(str))"
   ]
  },
  {
   "cell_type": "code",
   "execution_count": 8,
   "metadata": {},
   "outputs": [
    {
     "name": "stdout",
     "output_type": "stream",
     "text": [
      "<class 'pandas.core.frame.DataFrame'>\n",
      "RangeIndex: 62732 entries, 0 to 62731\n",
      "Data columns (total 10 columns):\n",
      "same_build               62732 non-null object\n",
      "living_floor             62499 non-null object\n",
      "int面積                    62732 non-null int64\n",
      "賃料                       31470 non-null float64\n",
      "id                       62732 non-null int64\n",
      "室内設備_element_counts      62732 non-null float64\n",
      "バス・トイレ_element_counts    62732 non-null float64\n",
      "キッチン_element_counts      62732 non-null float64\n",
      "放送・通信_element_counts     62732 non-null float64\n",
      "int方角                    57175 non-null float64\n",
      "dtypes: float64(6), int64(2), object(2)\n",
      "memory usage: 4.8+ MB\n",
      "<class 'pandas.core.frame.DataFrame'>\n",
      "RangeIndex: 62732 entries, 0 to 62731\n",
      "Data columns (total 10 columns):\n",
      "same_build               62732 non-null object\n",
      "living_floor             62499 non-null float64\n",
      "int面積                    62732 non-null int64\n",
      "賃料                       62732 non-null float64\n",
      "id                       62732 non-null int64\n",
      "室内設備_element_counts      62732 non-null float64\n",
      "バス・トイレ_element_counts    62732 non-null float64\n",
      "キッチン_element_counts      62732 non-null float64\n",
      "放送・通信_element_counts     62732 non-null float64\n",
      "int方角                    57175 non-null float64\n",
      "dtypes: float64(7), int64(2), object(1)\n",
      "memory usage: 4.8+ MB\n"
     ]
    }
   ],
   "source": [
    "all_df = all_df[[\"same_build\", \"living_floor\", \"int面積\", \"賃料\", \"id\"] + add_col]\n",
    "all_df.info()\n",
    "all_df[\"賃料\"] = all_df[\"賃料\"].fillna(0)\n",
    "all_df[\"living_floor\"] = all_df[\"living_floor\"].astype(float)\n",
    "all_df = all_df.reset_index(drop=True)\n",
    "all_df.info()"
   ]
  },
  {
   "cell_type": "code",
   "execution_count": 9,
   "metadata": {},
   "outputs": [],
   "source": [
    "train = all_df[all_df[\"賃料\"]>0]\n",
    "n_train = train.shape[0]\n",
    "test = all_df[all_df[\"賃料\"]==0]\n",
    "train[\"予測値\"] = 0\n",
    "\n",
    "all_df[\"賃料\"] = modify_rent(all_df[\"賃料\"], all_df)"
   ]
  },
  {
   "cell_type": "markdown",
   "metadata": {},
   "source": [
    "# bayesian ridge"
   ]
  },
  {
   "cell_type": "code",
   "execution_count": 10,
   "metadata": {},
   "outputs": [
    {
     "data": {
      "application/vnd.jupyter.widget-view+json": {
       "model_id": "04eeb943063f4eedb2d5576ec625f5fe",
       "version_major": 2,
       "version_minor": 0
      },
      "text/plain": [
       "HBox(children=(IntProgress(value=0, max=8109), HTML(value='')))"
      ]
     },
     "metadata": {},
     "output_type": "display_data"
    },
    {
     "name": "stdout",
     "output_type": "stream",
     "text": [
      "\n"
     ]
    }
   ],
   "source": [
    "duplicate_build_idx = all_df[\"same_build\"].value_counts()>1\n",
    "duplicate_keys = all_df[\"same_build\"].value_counts()[duplicate_build_idx].keys()\n",
    "\n",
    "result = []\n",
    "method = []\n",
    "aa = 0\n",
    "for i in tqdm(range(len(duplicate_keys))):\n",
    "    flag = 0\n",
    "    tmp_df = all_df[all_df[\"same_build\"]==str(duplicate_keys[i])]\n",
    "    tmp_df[\"living_floor\"] = tmp_df[\"living_floor\"].fillna(tmp_df[\"living_floor\"].mean())\n",
    "    \n",
    "    tmp_df[\"int方角\"] = tmp_df[\"int方角\"].fillna(tmp_df[\"int方角\"].mean())\n",
    "    tmp_df[\"int方角\"] = tmp_df[\"int方角\"].fillna(0)\n",
    "    \n",
    "    \n",
    "    tr_df = tmp_df[tmp_df[\"賃料\"]>0][[\"living_floor\", \"int面積\", \"賃料\"] + add_col]\n",
    "    \n",
    "    use_col = [col for col in list(tr_df.columns) if col != \"賃料\"]\n",
    "    \n",
    "    minim = tr_df[\"int面積\"].min()\n",
    "    maxim = tr_df[\"int面積\"].max()\n",
    "    range_ = maxim - minim\n",
    "    ts_df = tmp_df[tmp_df[\"賃料\"]==0][use_col]      #[[\"living_floor\",\"int面積\"] + add_col]\n",
    "    \n",
    "    #ts_df = ts_df[ts_df[\"int面積\"] >= minim][maxim >= ts_df[\"int面積\"]]\n",
    "    ts_df = ts_df[ts_df[\"int面積\"] >= minim-range_][range_+maxim >= ts_df[\"int面積\"]]\n",
    "    \n",
    "    y = tr_df[\"賃料\"].copy()\n",
    "    \n",
    "    X_train_ridge = tr_df[use_col].values\n",
    "    X_test_ridge = ts_df.values\n",
    "    \n",
    "    X_train_lin = tr_df[[\"living_floor\",\"int面積\"]].values\n",
    "    X_test_lin = ts_df[[\"living_floor\",\"int面積\"]].values\n",
    "    \n",
    "    if tr_df.shape[0] > 8:\n",
    "        continue\n",
    "\n",
    "    #    tr_df = tr_df[[\"living_floor\", \"int面積\"]]\n",
    "    #    ts_df = ts_df[[\"living_floor\",\"int面積\"]]\n",
    "    #    X_train = tr_df.values\n",
    "    #    X_test = ts_df.values\n",
    "\n",
    "    \n",
    "    if np.isnan(X_train_lin.sum()):\n",
    "        continue\n",
    "    \n",
    "    if len(X_test_lin)==0 or len(X_train_lin)==0:\n",
    "        continue\n",
    "    \n",
    "    clf_linear = LinearRegression()\n",
    "    clf_linear.fit(X_train_lin, y)\n",
    "    pred_linear = clf_linear.predict(X_train_lin)\n",
    "    rmse_linear = (np.sqrt(np.mean((y - pred_linear)**2)))\n",
    "    \n",
    "    pred_train = pred_linear\n",
    "    X_test = X_test_lin\n",
    "    model = clf_linear\n",
    "    cnt = \"lin\"\n",
    "    \n",
    "    if ((clf_linear.coef_[0] < 0) and (clf_linear.coef_[1] < 0)) or (abs(clf_linear.coef_).sum() > 1000000):\n",
    "        clf_ridge = Ridge()\n",
    "        clf_ridge.fit(X_train_ridge, y)\n",
    "        pred_ridge = clf_ridge.predict(X_train_ridge)\n",
    "        rmse_ridge = (np.sqrt(np.mean((y - pred_ridge)**2)))\n",
    "        \n",
    "        pred_train = pred_ridge\n",
    "        X_test = X_test_ridge\n",
    "        model = clf_ridge\n",
    "        cnt = \"ridge\"\n",
    "    \n",
    "    \"\"\"clf_ridge = Ridge()\n",
    "    clf_ridge.fit(X_train_ridge, y)\n",
    "    pred_ridge = clf_ridge.predict(X_train_ridge)\n",
    "    rmse_ridge = (np.sqrt(np.mean((y - pred_ridge)**2)))\"\"\"\n",
    "    \n",
    "    if (abs(clf_linear.coef_[0]) > 100*abs(clf_linear.coef_[1])):\n",
    "        aa+=1\n",
    "    \n",
    "    method.append(cnt)\n",
    "    \n",
    "    rmse = (np.sqrt(np.mean((y - pred_train)**2)))\n",
    "    result.append([str(duplicate_keys[i]), rmse, i])\n",
    "\n",
    "    pred_test = model.predict(X_test)\n",
    "    pred_test = np.round(pred_test, -3)\n",
    "    test.loc[np.array(ts_df.index), \"賃料\"] = pred_test\n",
    "    \n",
    "    train.loc[np.array(tr_df.index), \"予測値\"] = pred_train\n",
    "    \n",
    "    #if str(duplicate_keys[i])==\"9南北線\t麻布十番駅\t徒歩8分\t\t都営大江戸線\t赤羽橋駅\t徒歩9分\t\t山手線\t田町(東京都)駅\t徒歩13分\":\n",
    "    #    print(cnt, rmse)\n",
    "        \n",
    "    #if str(duplicate_keys[i])=='53都営大江戸線\\t勝どき駅\\t徒歩6分\\t\\t有楽町線\\t月島駅\\t徒歩15分\\t\\t東京メトロ日比谷線築地駅徒歩21分':\n",
    "    #    print(cnt, rmse)\n",
    "    #    print(clf_linear.coef_)\n",
    "    #    break\n",
    "    \n",
    "    #if str(duplicate_keys[i])==all_df[all_df[\"id\"]==37436][\"same_build\"].values[0]:\n",
    "    #    break\n",
    "    aa"
   ]
  },
  {
   "cell_type": "code",
   "execution_count": 11,
   "metadata": {},
   "outputs": [
    {
     "name": "stdout",
     "output_type": "stream",
     "text": [
      "(5929, 10)\n"
     ]
    }
   ],
   "source": [
    "print(test[test[\"賃料\"]!=0].shape) #思考停止で9908"
   ]
  },
  {
   "cell_type": "code",
   "execution_count": 12,
   "metadata": {},
   "outputs": [
    {
     "data": {
      "text/html": [
       "<div>\n",
       "<style scoped>\n",
       "    .dataframe tbody tr th:only-of-type {\n",
       "        vertical-align: middle;\n",
       "    }\n",
       "\n",
       "    .dataframe tbody tr th {\n",
       "        vertical-align: top;\n",
       "    }\n",
       "\n",
       "    .dataframe thead th {\n",
       "        text-align: right;\n",
       "    }\n",
       "</style>\n",
       "<table border=\"1\" class=\"dataframe\">\n",
       "  <thead>\n",
       "    <tr style=\"text-align: right;\">\n",
       "      <th></th>\n",
       "      <th>id</th>\n",
       "      <th>int方角</th>\n",
       "      <th>int面積</th>\n",
       "      <th>living_floor</th>\n",
       "      <th>same_build</th>\n",
       "      <th>キッチン_element_counts</th>\n",
       "      <th>バス・トイレ_element_counts</th>\n",
       "      <th>予測値</th>\n",
       "      <th>室内設備_element_counts</th>\n",
       "      <th>放送・通信_element_counts</th>\n",
       "      <th>賃料</th>\n",
       "    </tr>\n",
       "  </thead>\n",
       "  <tbody>\n",
       "    <tr>\n",
       "      <th>5958</th>\n",
       "      <td>5959</td>\n",
       "      <td>5.0</td>\n",
       "      <td>32</td>\n",
       "      <td>1.0</td>\n",
       "      <td>3有楽町線\\t地下鉄赤塚駅\\t徒歩3分\\t\\t東武東上線\\t下赤塚駅\\t徒歩4分\\t\\t都営...</td>\n",
       "      <td>4.0</td>\n",
       "      <td>10.0</td>\n",
       "      <td>90000.0</td>\n",
       "      <td>9.0</td>\n",
       "      <td>2.0</td>\n",
       "      <td>90000.0</td>\n",
       "    </tr>\n",
       "    <tr>\n",
       "      <th>9637</th>\n",
       "      <td>9638</td>\n",
       "      <td>8.0</td>\n",
       "      <td>31</td>\n",
       "      <td>1.0</td>\n",
       "      <td>3有楽町線\\t地下鉄赤塚駅\\t徒歩3分\\t\\t東武東上線\\t下赤塚駅\\t徒歩4分\\t\\t都営...</td>\n",
       "      <td>4.0</td>\n",
       "      <td>10.0</td>\n",
       "      <td>93000.0</td>\n",
       "      <td>10.0</td>\n",
       "      <td>2.0</td>\n",
       "      <td>93000.0</td>\n",
       "    </tr>\n",
       "    <tr>\n",
       "      <th>35296</th>\n",
       "      <td>35297</td>\n",
       "      <td>5.0</td>\n",
       "      <td>25</td>\n",
       "      <td>1.0</td>\n",
       "      <td>3有楽町線\\t地下鉄赤塚駅\\t徒歩3分\\t\\t東武東上線\\t下赤塚駅\\t徒歩4分\\t\\t都営...</td>\n",
       "      <td>4.0</td>\n",
       "      <td>10.0</td>\n",
       "      <td>NaN</td>\n",
       "      <td>9.0</td>\n",
       "      <td>2.0</td>\n",
       "      <td>0.0</td>\n",
       "    </tr>\n",
       "    <tr>\n",
       "      <th>61168</th>\n",
       "      <td>61169</td>\n",
       "      <td>5.0</td>\n",
       "      <td>32</td>\n",
       "      <td>2.0</td>\n",
       "      <td>3有楽町線\\t地下鉄赤塚駅\\t徒歩3分\\t\\t東武東上線\\t下赤塚駅\\t徒歩4分\\t\\t都営...</td>\n",
       "      <td>4.0</td>\n",
       "      <td>10.0</td>\n",
       "      <td>NaN</td>\n",
       "      <td>9.0</td>\n",
       "      <td>2.0</td>\n",
       "      <td>90000.0</td>\n",
       "    </tr>\n",
       "  </tbody>\n",
       "</table>\n",
       "</div>"
      ],
      "text/plain": [
       "          id  int方角  int面積  living_floor  \\\n",
       "5958    5959    5.0     32           1.0   \n",
       "9637    9638    8.0     31           1.0   \n",
       "35296  35297    5.0     25           1.0   \n",
       "61168  61169    5.0     32           2.0   \n",
       "\n",
       "                                              same_build  キッチン_element_counts  \\\n",
       "5958   3有楽町線\\t地下鉄赤塚駅\\t徒歩3分\\t\\t東武東上線\\t下赤塚駅\\t徒歩4分\\t\\t都営...                  4.0   \n",
       "9637   3有楽町線\\t地下鉄赤塚駅\\t徒歩3分\\t\\t東武東上線\\t下赤塚駅\\t徒歩4分\\t\\t都営...                  4.0   \n",
       "35296  3有楽町線\\t地下鉄赤塚駅\\t徒歩3分\\t\\t東武東上線\\t下赤塚駅\\t徒歩4分\\t\\t都営...                  4.0   \n",
       "61168  3有楽町線\\t地下鉄赤塚駅\\t徒歩3分\\t\\t東武東上線\\t下赤塚駅\\t徒歩4分\\t\\t都営...                  4.0   \n",
       "\n",
       "       バス・トイレ_element_counts      予測値  室内設備_element_counts  \\\n",
       "5958                    10.0  90000.0                  9.0   \n",
       "9637                    10.0  93000.0                 10.0   \n",
       "35296                   10.0      NaN                  9.0   \n",
       "61168                   10.0      NaN                  9.0   \n",
       "\n",
       "       放送・通信_element_counts       賃料  \n",
       "5958                    2.0  90000.0  \n",
       "9637                    2.0  93000.0  \n",
       "35296                   2.0      0.0  \n",
       "61168                   2.0  90000.0  "
      ]
     },
     "execution_count": 12,
     "metadata": {},
     "output_type": "execute_result"
    }
   ],
   "source": [
    "result_df = pd.DataFrame(result)\n",
    "result_df.columns = [\"same_build\", \"rmse\", \"i\"]\n",
    "result_df = result_df.sort_values(by=\"rmse\", ascending=False)\n",
    "#result_df[\"rmse\"].hist(bins =255)\n",
    "\n",
    "all_df = pd.concat([train, test], axis=0)\n",
    "all_df[all_df[\"same_build\"]==result_df[\"same_build\"][1109]]"
   ]
  },
  {
   "cell_type": "code",
   "execution_count": 13,
   "metadata": {},
   "outputs": [
    {
     "data": {
      "text/plain": [
       "727794.894751556"
      ]
     },
     "execution_count": 13,
     "metadata": {},
     "output_type": "execute_result"
    }
   ],
   "source": [
    "sum(result_df[\"rmse\"].values) #Bayesian Ridge 11257673\n",
    "                              #Ridge           1648025\n",
    "                              #linear          1011743"
   ]
  },
  {
   "cell_type": "code",
   "execution_count": 14,
   "metadata": {},
   "outputs": [
    {
     "data": {
      "text/html": [
       "<div>\n",
       "<style scoped>\n",
       "    .dataframe tbody tr th:only-of-type {\n",
       "        vertical-align: middle;\n",
       "    }\n",
       "\n",
       "    .dataframe tbody tr th {\n",
       "        vertical-align: top;\n",
       "    }\n",
       "\n",
       "    .dataframe thead th {\n",
       "        text-align: right;\n",
       "    }\n",
       "</style>\n",
       "<table border=\"1\" class=\"dataframe\">\n",
       "  <thead>\n",
       "    <tr style=\"text-align: right;\">\n",
       "      <th></th>\n",
       "      <th>id</th>\n",
       "      <th>int方角</th>\n",
       "      <th>int面積</th>\n",
       "      <th>living_floor</th>\n",
       "      <th>same_build</th>\n",
       "      <th>キッチン_element_counts</th>\n",
       "      <th>バス・トイレ_element_counts</th>\n",
       "      <th>予測値</th>\n",
       "      <th>室内設備_element_counts</th>\n",
       "      <th>放送・通信_element_counts</th>\n",
       "      <th>賃料</th>\n",
       "    </tr>\n",
       "  </thead>\n",
       "  <tbody>\n",
       "    <tr>\n",
       "      <th>2301</th>\n",
       "      <td>2302</td>\n",
       "      <td>5.0</td>\n",
       "      <td>71</td>\n",
       "      <td>30.0</td>\n",
       "      <td>33ゆりかもめ\\tお台場海浜公園駅\\t徒歩4分\\t\\tりんかい線\\t東京テレポート駅\\t徒歩...</td>\n",
       "      <td>7.0</td>\n",
       "      <td>8.0</td>\n",
       "      <td>227021.281111</td>\n",
       "      <td>8.0</td>\n",
       "      <td>2.0</td>\n",
       "      <td>218000.0</td>\n",
       "    </tr>\n",
       "    <tr>\n",
       "      <th>3825</th>\n",
       "      <td>3826</td>\n",
       "      <td>8.0</td>\n",
       "      <td>63</td>\n",
       "      <td>5.0</td>\n",
       "      <td>33ゆりかもめ\\tお台場海浜公園駅\\t徒歩4分\\t\\tりんかい線\\t東京テレポート駅\\t徒歩...</td>\n",
       "      <td>5.0</td>\n",
       "      <td>8.0</td>\n",
       "      <td>165844.179891</td>\n",
       "      <td>8.0</td>\n",
       "      <td>1.0</td>\n",
       "      <td>175000.0</td>\n",
       "    </tr>\n",
       "    <tr>\n",
       "      <th>4964</th>\n",
       "      <td>4965</td>\n",
       "      <td>4.0</td>\n",
       "      <td>84</td>\n",
       "      <td>29.0</td>\n",
       "      <td>33ゆりかもめ\\tお台場海浜公園駅\\t徒歩4分\\t\\tりんかい線\\t東京テレポート駅\\t徒歩...</td>\n",
       "      <td>5.0</td>\n",
       "      <td>8.0</td>\n",
       "      <td>261722.835278</td>\n",
       "      <td>7.0</td>\n",
       "      <td>2.0</td>\n",
       "      <td>280000.0</td>\n",
       "    </tr>\n",
       "    <tr>\n",
       "      <th>19488</th>\n",
       "      <td>19489</td>\n",
       "      <td>1.0</td>\n",
       "      <td>79</td>\n",
       "      <td>17.0</td>\n",
       "      <td>33ゆりかもめ\\tお台場海浜公園駅\\t徒歩4分\\t\\tりんかい線\\t東京テレポート駅\\t徒歩...</td>\n",
       "      <td>5.0</td>\n",
       "      <td>8.0</td>\n",
       "      <td>229122.660001</td>\n",
       "      <td>8.0</td>\n",
       "      <td>2.0</td>\n",
       "      <td>210000.0</td>\n",
       "    </tr>\n",
       "    <tr>\n",
       "      <th>23570</th>\n",
       "      <td>23571</td>\n",
       "      <td>5.0</td>\n",
       "      <td>55</td>\n",
       "      <td>28.0</td>\n",
       "      <td>33ゆりかもめ\\tお台場海浜公園駅\\t徒歩4分\\t\\tりんかい線\\t東京テレポート駅\\t徒歩...</td>\n",
       "      <td>5.0</td>\n",
       "      <td>8.0</td>\n",
       "      <td>179289.043719</td>\n",
       "      <td>8.0</td>\n",
       "      <td>2.0</td>\n",
       "      <td>180000.0</td>\n",
       "    </tr>\n",
       "  </tbody>\n",
       "</table>\n",
       "</div>"
      ],
      "text/plain": [
       "          id  int方角  int面積  living_floor  \\\n",
       "2301    2302    5.0     71          30.0   \n",
       "3825    3826    8.0     63           5.0   \n",
       "4964    4965    4.0     84          29.0   \n",
       "19488  19489    1.0     79          17.0   \n",
       "23570  23571    5.0     55          28.0   \n",
       "\n",
       "                                              same_build  キッチン_element_counts  \\\n",
       "2301   33ゆりかもめ\\tお台場海浜公園駅\\t徒歩4分\\t\\tりんかい線\\t東京テレポート駅\\t徒歩...                  7.0   \n",
       "3825   33ゆりかもめ\\tお台場海浜公園駅\\t徒歩4分\\t\\tりんかい線\\t東京テレポート駅\\t徒歩...                  5.0   \n",
       "4964   33ゆりかもめ\\tお台場海浜公園駅\\t徒歩4分\\t\\tりんかい線\\t東京テレポート駅\\t徒歩...                  5.0   \n",
       "19488  33ゆりかもめ\\tお台場海浜公園駅\\t徒歩4分\\t\\tりんかい線\\t東京テレポート駅\\t徒歩...                  5.0   \n",
       "23570  33ゆりかもめ\\tお台場海浜公園駅\\t徒歩4分\\t\\tりんかい線\\t東京テレポート駅\\t徒歩...                  5.0   \n",
       "\n",
       "       バス・トイレ_element_counts            予測値  室内設備_element_counts  \\\n",
       "2301                     8.0  227021.281111                  8.0   \n",
       "3825                     8.0  165844.179891                  8.0   \n",
       "4964                     8.0  261722.835278                  7.0   \n",
       "19488                    8.0  229122.660001                  8.0   \n",
       "23570                    8.0  179289.043719                  8.0   \n",
       "\n",
       "       放送・通信_element_counts        賃料  \n",
       "2301                    2.0  218000.0  \n",
       "3825                    1.0  175000.0  \n",
       "4964                    2.0  280000.0  \n",
       "19488                   2.0  210000.0  \n",
       "23570                   2.0  180000.0  "
      ]
     },
     "execution_count": 14,
     "metadata": {},
     "output_type": "execute_result"
    }
   ],
   "source": [
    "all_df[all_df[\"same_build\"]==result_df[result_df[\"rmse\"]==result_df[\"rmse\"].values[1]][\"same_build\"].values[0]].head()"
   ]
  },
  {
   "cell_type": "code",
   "execution_count": 15,
   "metadata": {},
   "outputs": [
    {
     "data": {
      "text/plain": [
       "3575"
      ]
     },
     "execution_count": 15,
     "metadata": {},
     "output_type": "execute_result"
    }
   ],
   "source": [
    "len(method)"
   ]
  },
  {
   "cell_type": "code",
   "execution_count": 16,
   "metadata": {},
   "outputs": [
    {
     "data": {
      "text/html": [
       "<div>\n",
       "<style scoped>\n",
       "    .dataframe tbody tr th:only-of-type {\n",
       "        vertical-align: middle;\n",
       "    }\n",
       "\n",
       "    .dataframe tbody tr th {\n",
       "        vertical-align: top;\n",
       "    }\n",
       "\n",
       "    .dataframe thead th {\n",
       "        text-align: right;\n",
       "    }\n",
       "</style>\n",
       "<table border=\"1\" class=\"dataframe\">\n",
       "  <thead>\n",
       "    <tr style=\"text-align: right;\">\n",
       "      <th></th>\n",
       "      <th>same_build</th>\n",
       "      <th>rmse</th>\n",
       "      <th>i</th>\n",
       "    </tr>\n",
       "  </thead>\n",
       "  <tbody>\n",
       "    <tr>\n",
       "      <th>53</th>\n",
       "      <td>32都営大江戸線\\t東新宿駅\\t徒歩2分\\t\\t副都心線\\t東新宿駅\\t徒歩2分\\t\\t都営...</td>\n",
       "      <td>17106.635282</td>\n",
       "      <td>173</td>\n",
       "    </tr>\n",
       "    <tr>\n",
       "      <th>363</th>\n",
       "      <td>33ゆりかもめ\\tお台場海浜公園駅\\t徒歩4分\\t\\tりんかい線\\t東京テレポート駅\\t徒歩...</td>\n",
       "      <td>13156.358838</td>\n",
       "      <td>490</td>\n",
       "    </tr>\n",
       "    <tr>\n",
       "      <th>302</th>\n",
       "      <td>30りんかい線\\t品川シーサイド駅\\t徒歩1分\\t\\t京急本線\\t青物横丁駅\\t徒歩10分\\...</td>\n",
       "      <td>11063.069330</td>\n",
       "      <td>428</td>\n",
       "    </tr>\n",
       "    <tr>\n",
       "      <th>163</th>\n",
       "      <td>5山手線\\t目黒駅\\t徒歩8分\\t\\t山手線\\t恵比寿駅\\t徒歩13分\\t\\t南北線\\t目黒...</td>\n",
       "      <td>11001.806513</td>\n",
       "      <td>288</td>\n",
       "    </tr>\n",
       "    <tr>\n",
       "      <th>197</th>\n",
       "      <td>3総武線・中央線（各停）\\t新小岩駅\\t徒歩12分</td>\n",
       "      <td>11000.000000</td>\n",
       "      <td>322</td>\n",
       "    </tr>\n",
       "  </tbody>\n",
       "</table>\n",
       "</div>"
      ],
      "text/plain": [
       "                                            same_build          rmse    i\n",
       "53   32都営大江戸線\\t東新宿駅\\t徒歩2分\\t\\t副都心線\\t東新宿駅\\t徒歩2分\\t\\t都営...  17106.635282  173\n",
       "363  33ゆりかもめ\\tお台場海浜公園駅\\t徒歩4分\\t\\tりんかい線\\t東京テレポート駅\\t徒歩...  13156.358838  490\n",
       "302  30りんかい線\\t品川シーサイド駅\\t徒歩1分\\t\\t京急本線\\t青物横丁駅\\t徒歩10分\\...  11063.069330  428\n",
       "163  5山手線\\t目黒駅\\t徒歩8分\\t\\t山手線\\t恵比寿駅\\t徒歩13分\\t\\t南北線\\t目黒...  11001.806513  288\n",
       "197                          3総武線・中央線（各停）\\t新小岩駅\\t徒歩12分  11000.000000  322"
      ]
     },
     "execution_count": 16,
     "metadata": {},
     "output_type": "execute_result"
    }
   ],
   "source": [
    "result_df.head(5)"
   ]
  },
  {
   "cell_type": "code",
   "execution_count": 17,
   "metadata": {},
   "outputs": [
    {
     "data": {
      "text/plain": [
       "980000.0"
      ]
     },
     "execution_count": 17,
     "metadata": {},
     "output_type": "execute_result"
    }
   ],
   "source": [
    "v = list(test[\"賃料\"])\n",
    "v.sort(reverse=True)\n",
    "v[1]"
   ]
  },
  {
   "cell_type": "code",
   "execution_count": 18,
   "metadata": {},
   "outputs": [
    {
     "data": {
      "text/html": [
       "<div>\n",
       "<style scoped>\n",
       "    .dataframe tbody tr th:only-of-type {\n",
       "        vertical-align: middle;\n",
       "    }\n",
       "\n",
       "    .dataframe tbody tr th {\n",
       "        vertical-align: top;\n",
       "    }\n",
       "\n",
       "    .dataframe thead th {\n",
       "        text-align: right;\n",
       "    }\n",
       "</style>\n",
       "<table border=\"1\" class=\"dataframe\">\n",
       "  <thead>\n",
       "    <tr style=\"text-align: right;\">\n",
       "      <th></th>\n",
       "      <th>id</th>\n",
       "      <th>int方角</th>\n",
       "      <th>int面積</th>\n",
       "      <th>living_floor</th>\n",
       "      <th>same_build</th>\n",
       "      <th>キッチン_element_counts</th>\n",
       "      <th>バス・トイレ_element_counts</th>\n",
       "      <th>予測値</th>\n",
       "      <th>室内設備_element_counts</th>\n",
       "      <th>放送・通信_element_counts</th>\n",
       "      <th>賃料</th>\n",
       "    </tr>\n",
       "  </thead>\n",
       "  <tbody>\n",
       "    <tr>\n",
       "      <th>6387</th>\n",
       "      <td>6388</td>\n",
       "      <td>2.0</td>\n",
       "      <td>72</td>\n",
       "      <td>7.0</td>\n",
       "      <td>26銀座線\\t青山一丁目駅\\t徒歩3分\\t\\t都営大江戸線\\t青山一丁目駅\\t徒歩3分\\t\\...</td>\n",
       "      <td>4.0</td>\n",
       "      <td>9.0</td>\n",
       "      <td>680000.0</td>\n",
       "      <td>6.0</td>\n",
       "      <td>2.0</td>\n",
       "      <td>680000.0</td>\n",
       "    </tr>\n",
       "    <tr>\n",
       "      <th>18783</th>\n",
       "      <td>18784</td>\n",
       "      <td>7.0</td>\n",
       "      <td>85</td>\n",
       "      <td>16.0</td>\n",
       "      <td>26銀座線\\t青山一丁目駅\\t徒歩3分\\t\\t都営大江戸線\\t青山一丁目駅\\t徒歩3分\\t\\...</td>\n",
       "      <td>3.0</td>\n",
       "      <td>7.0</td>\n",
       "      <td>730000.0</td>\n",
       "      <td>7.0</td>\n",
       "      <td>2.0</td>\n",
       "      <td>730000.0</td>\n",
       "    </tr>\n",
       "    <tr>\n",
       "      <th>26531</th>\n",
       "      <td>26532</td>\n",
       "      <td>7.0</td>\n",
       "      <td>85</td>\n",
       "      <td>13.0</td>\n",
       "      <td>26銀座線\\t青山一丁目駅\\t徒歩3分\\t\\t都営大江戸線\\t青山一丁目駅\\t徒歩3分\\t\\...</td>\n",
       "      <td>5.0</td>\n",
       "      <td>9.0</td>\n",
       "      <td>780000.0</td>\n",
       "      <td>8.0</td>\n",
       "      <td>2.0</td>\n",
       "      <td>780000.0</td>\n",
       "    </tr>\n",
       "    <tr>\n",
       "      <th>37268</th>\n",
       "      <td>37269</td>\n",
       "      <td>2.0</td>\n",
       "      <td>70</td>\n",
       "      <td>10.0</td>\n",
       "      <td>26銀座線\\t青山一丁目駅\\t徒歩3分\\t\\t都営大江戸線\\t青山一丁目駅\\t徒歩3分\\t\\...</td>\n",
       "      <td>4.0</td>\n",
       "      <td>9.0</td>\n",
       "      <td>NaN</td>\n",
       "      <td>6.0</td>\n",
       "      <td>2.0</td>\n",
       "      <td>599000.0</td>\n",
       "    </tr>\n",
       "  </tbody>\n",
       "</table>\n",
       "</div>"
      ],
      "text/plain": [
       "          id  int方角  int面積  living_floor  \\\n",
       "6387    6388    2.0     72           7.0   \n",
       "18783  18784    7.0     85          16.0   \n",
       "26531  26532    7.0     85          13.0   \n",
       "37268  37269    2.0     70          10.0   \n",
       "\n",
       "                                              same_build  キッチン_element_counts  \\\n",
       "6387   26銀座線\\t青山一丁目駅\\t徒歩3分\\t\\t都営大江戸線\\t青山一丁目駅\\t徒歩3分\\t\\...                  4.0   \n",
       "18783  26銀座線\\t青山一丁目駅\\t徒歩3分\\t\\t都営大江戸線\\t青山一丁目駅\\t徒歩3分\\t\\...                  3.0   \n",
       "26531  26銀座線\\t青山一丁目駅\\t徒歩3分\\t\\t都営大江戸線\\t青山一丁目駅\\t徒歩3分\\t\\...                  5.0   \n",
       "37268  26銀座線\\t青山一丁目駅\\t徒歩3分\\t\\t都営大江戸線\\t青山一丁目駅\\t徒歩3分\\t\\...                  4.0   \n",
       "\n",
       "       バス・トイレ_element_counts       予測値  室内設備_element_counts  \\\n",
       "6387                     9.0  680000.0                  6.0   \n",
       "18783                    7.0  730000.0                  7.0   \n",
       "26531                    9.0  780000.0                  8.0   \n",
       "37268                    9.0       NaN                  6.0   \n",
       "\n",
       "       放送・通信_element_counts        賃料  \n",
       "6387                    2.0  680000.0  \n",
       "18783                   2.0  730000.0  \n",
       "26531                   2.0  780000.0  \n",
       "37268                   2.0  599000.0  "
      ]
     },
     "execution_count": 18,
     "metadata": {},
     "output_type": "execute_result"
    }
   ],
   "source": [
    "v = list(test[\"賃料\"])\n",
    "v.sort(reverse=True)\n",
    "\n",
    "ad = test[test[\"賃料\"]==v[7]][\"same_build\"].values[0]\n",
    "all_df[all_df[\"same_build\"] == ad]"
   ]
  },
  {
   "cell_type": "code",
   "execution_count": 19,
   "metadata": {},
   "outputs": [
    {
     "data": {
      "text/plain": [
       "0        12都営三田線\\t西巣鴨駅\\t徒歩4分\\t\\t埼京線\\t板橋駅\\t徒歩14分\\t\\t都電荒川...\n",
       "1        10都営大江戸線\\t勝どき駅\\t徒歩5分\\t\\t有楽町線\\t月島駅\\t徒歩9分\\t\\t日比谷...\n",
       "2        15京王線\\t笹塚駅\\t徒歩6分\\t\\t京王線\\t代田橋駅\\t徒歩7分\\t\\t京王線\\t明大...\n",
       "3        4総武線・中央線（各停）\\t高円寺駅\\t徒歩9分\\t\\t丸ノ内線(池袋－荻窪)\\t新高円寺駅...\n",
       "4        2京成金町線\\t京成金町駅\\t徒歩5分\\t\\t常磐線\\t金町(東京都)駅\\t徒歩7分\\t\\t...\n",
       "                               ...                        \n",
       "62727    8埼京線\\t板橋駅\\t徒歩3分\\t\\t都営三田線\\t新板橋駅\\t徒歩9分\\t\\t東武東上線\\...\n",
       "62728    15都営新宿線\\t岩本町駅\\t徒歩2分\\t\\t山手線\\t秋葉原駅\\t徒歩4分\\t\\t日比谷線...\n",
       "62729    14都営大江戸線\\t新江古田駅\\t徒歩10分\\t\\t西武池袋線\\t江古田駅\\t徒歩20分\\t...\n",
       "62730    14有楽町線\\t麹町駅\\t徒歩3分\\t\\t丸ノ内線(池袋－荻窪)\\t四ツ谷駅\\t徒歩4分\\t...\n",
       "62731    5都営浅草線\\t西馬込駅\\t徒歩8分\\t\\t東急池上線\\t池上駅\\t徒歩19分\\t\\t都営浅...\n",
       "Name: same_build, Length: 62732, dtype: object"
      ]
     },
     "execution_count": 19,
     "metadata": {},
     "output_type": "execute_result"
    }
   ],
   "source": [
    "all_df[\"same_build\"]"
   ]
  },
  {
   "cell_type": "code",
   "execution_count": 20,
   "metadata": {},
   "outputs": [
    {
     "data": {
      "text/html": [
       "<div>\n",
       "<style scoped>\n",
       "    .dataframe tbody tr th:only-of-type {\n",
       "        vertical-align: middle;\n",
       "    }\n",
       "\n",
       "    .dataframe tbody tr th {\n",
       "        vertical-align: top;\n",
       "    }\n",
       "\n",
       "    .dataframe thead th {\n",
       "        text-align: right;\n",
       "    }\n",
       "</style>\n",
       "<table border=\"1\" class=\"dataframe\">\n",
       "  <thead>\n",
       "    <tr style=\"text-align: right;\">\n",
       "      <th></th>\n",
       "      <th>id</th>\n",
       "      <th>int方角</th>\n",
       "      <th>int面積</th>\n",
       "      <th>living_floor</th>\n",
       "      <th>same_build</th>\n",
       "      <th>キッチン_element_counts</th>\n",
       "      <th>バス・トイレ_element_counts</th>\n",
       "      <th>予測値</th>\n",
       "      <th>室内設備_element_counts</th>\n",
       "      <th>放送・通信_element_counts</th>\n",
       "      <th>賃料</th>\n",
       "    </tr>\n",
       "  </thead>\n",
       "  <tbody>\n",
       "    <tr>\n",
       "      <th>2070</th>\n",
       "      <td>2071</td>\n",
       "      <td>6.0</td>\n",
       "      <td>20</td>\n",
       "      <td>5.0</td>\n",
       "      <td>5東武東上線\\t東武練馬駅\\t徒歩7分\\t\\t東武東上線\\t上板橋駅\\t徒歩13分\\t\\t有...</td>\n",
       "      <td>4.0</td>\n",
       "      <td>9.0</td>\n",
       "      <td>81600.0</td>\n",
       "      <td>15.0</td>\n",
       "      <td>1.0</td>\n",
       "      <td>82000.0</td>\n",
       "    </tr>\n",
       "    <tr>\n",
       "      <th>17944</th>\n",
       "      <td>17945</td>\n",
       "      <td>6.0</td>\n",
       "      <td>20</td>\n",
       "      <td>5.0</td>\n",
       "      <td>5東武東上線\\t東武練馬駅\\t徒歩7分\\t\\t東武東上線\\t上板橋駅\\t徒歩13分\\t\\t有...</td>\n",
       "      <td>4.0</td>\n",
       "      <td>9.0</td>\n",
       "      <td>81300.0</td>\n",
       "      <td>14.0</td>\n",
       "      <td>1.0</td>\n",
       "      <td>81000.0</td>\n",
       "    </tr>\n",
       "    <tr>\n",
       "      <th>28851</th>\n",
       "      <td>28852</td>\n",
       "      <td>6.0</td>\n",
       "      <td>22</td>\n",
       "      <td>4.0</td>\n",
       "      <td>5東武東上線\\t東武練馬駅\\t徒歩7分\\t\\t東武東上線\\t上板橋駅\\t徒歩13分\\t\\t有...</td>\n",
       "      <td>4.0</td>\n",
       "      <td>9.0</td>\n",
       "      <td>81100.0</td>\n",
       "      <td>15.0</td>\n",
       "      <td>1.0</td>\n",
       "      <td>81000.0</td>\n",
       "    </tr>\n",
       "    <tr>\n",
       "      <th>33463</th>\n",
       "      <td>33464</td>\n",
       "      <td>6.0</td>\n",
       "      <td>22</td>\n",
       "      <td>3.0</td>\n",
       "      <td>5東武東上線\\t東武練馬駅\\t徒歩7分\\t\\t東武東上線\\t上板橋駅\\t徒歩13分\\t\\t有...</td>\n",
       "      <td>4.0</td>\n",
       "      <td>9.0</td>\n",
       "      <td>NaN</td>\n",
       "      <td>15.0</td>\n",
       "      <td>1.0</td>\n",
       "      <td>81000.0</td>\n",
       "    </tr>\n",
       "    <tr>\n",
       "      <th>37435</th>\n",
       "      <td>37436</td>\n",
       "      <td>6.0</td>\n",
       "      <td>20</td>\n",
       "      <td>1.0</td>\n",
       "      <td>5東武東上線\\t東武練馬駅\\t徒歩7分\\t\\t東武東上線\\t上板橋駅\\t徒歩13分\\t\\t有...</td>\n",
       "      <td>4.0</td>\n",
       "      <td>9.0</td>\n",
       "      <td>NaN</td>\n",
       "      <td>15.0</td>\n",
       "      <td>1.0</td>\n",
       "      <td>81000.0</td>\n",
       "    </tr>\n",
       "    <tr>\n",
       "      <th>41358</th>\n",
       "      <td>41359</td>\n",
       "      <td>6.0</td>\n",
       "      <td>20</td>\n",
       "      <td>3.0</td>\n",
       "      <td>5東武東上線\\t東武練馬駅\\t徒歩7分\\t\\t東武東上線\\t上板橋駅\\t徒歩13分\\t\\t有...</td>\n",
       "      <td>4.0</td>\n",
       "      <td>9.0</td>\n",
       "      <td>NaN</td>\n",
       "      <td>14.0</td>\n",
       "      <td>1.0</td>\n",
       "      <td>81000.0</td>\n",
       "    </tr>\n",
       "    <tr>\n",
       "      <th>59566</th>\n",
       "      <td>59567</td>\n",
       "      <td>6.0</td>\n",
       "      <td>19</td>\n",
       "      <td>2.0</td>\n",
       "      <td>5東武東上線\\t東武練馬駅\\t徒歩7分\\t\\t東武東上線\\t上板橋駅\\t徒歩13分\\t\\t有...</td>\n",
       "      <td>4.0</td>\n",
       "      <td>9.0</td>\n",
       "      <td>NaN</td>\n",
       "      <td>14.0</td>\n",
       "      <td>1.0</td>\n",
       "      <td>81000.0</td>\n",
       "    </tr>\n",
       "    <tr>\n",
       "      <th>59792</th>\n",
       "      <td>59793</td>\n",
       "      <td>6.0</td>\n",
       "      <td>20</td>\n",
       "      <td>3.0</td>\n",
       "      <td>5東武東上線\\t東武練馬駅\\t徒歩7分\\t\\t東武東上線\\t上板橋駅\\t徒歩13分\\t\\t有...</td>\n",
       "      <td>4.0</td>\n",
       "      <td>9.0</td>\n",
       "      <td>NaN</td>\n",
       "      <td>15.0</td>\n",
       "      <td>1.0</td>\n",
       "      <td>81000.0</td>\n",
       "    </tr>\n",
       "  </tbody>\n",
       "</table>\n",
       "</div>"
      ],
      "text/plain": [
       "          id  int方角  int面積  living_floor  \\\n",
       "2070    2071    6.0     20           5.0   \n",
       "17944  17945    6.0     20           5.0   \n",
       "28851  28852    6.0     22           4.0   \n",
       "33463  33464    6.0     22           3.0   \n",
       "37435  37436    6.0     20           1.0   \n",
       "41358  41359    6.0     20           3.0   \n",
       "59566  59567    6.0     19           2.0   \n",
       "59792  59793    6.0     20           3.0   \n",
       "\n",
       "                                              same_build  キッチン_element_counts  \\\n",
       "2070   5東武東上線\\t東武練馬駅\\t徒歩7分\\t\\t東武東上線\\t上板橋駅\\t徒歩13分\\t\\t有...                  4.0   \n",
       "17944  5東武東上線\\t東武練馬駅\\t徒歩7分\\t\\t東武東上線\\t上板橋駅\\t徒歩13分\\t\\t有...                  4.0   \n",
       "28851  5東武東上線\\t東武練馬駅\\t徒歩7分\\t\\t東武東上線\\t上板橋駅\\t徒歩13分\\t\\t有...                  4.0   \n",
       "33463  5東武東上線\\t東武練馬駅\\t徒歩7分\\t\\t東武東上線\\t上板橋駅\\t徒歩13分\\t\\t有...                  4.0   \n",
       "37435  5東武東上線\\t東武練馬駅\\t徒歩7分\\t\\t東武東上線\\t上板橋駅\\t徒歩13分\\t\\t有...                  4.0   \n",
       "41358  5東武東上線\\t東武練馬駅\\t徒歩7分\\t\\t東武東上線\\t上板橋駅\\t徒歩13分\\t\\t有...                  4.0   \n",
       "59566  5東武東上線\\t東武練馬駅\\t徒歩7分\\t\\t東武東上線\\t上板橋駅\\t徒歩13分\\t\\t有...                  4.0   \n",
       "59792  5東武東上線\\t東武練馬駅\\t徒歩7分\\t\\t東武東上線\\t上板橋駅\\t徒歩13分\\t\\t有...                  4.0   \n",
       "\n",
       "       バス・トイレ_element_counts      予測値  室内設備_element_counts  \\\n",
       "2070                     9.0  81600.0                 15.0   \n",
       "17944                    9.0  81300.0                 14.0   \n",
       "28851                    9.0  81100.0                 15.0   \n",
       "33463                    9.0      NaN                 15.0   \n",
       "37435                    9.0      NaN                 15.0   \n",
       "41358                    9.0      NaN                 14.0   \n",
       "59566                    9.0      NaN                 14.0   \n",
       "59792                    9.0      NaN                 15.0   \n",
       "\n",
       "       放送・通信_element_counts       賃料  \n",
       "2070                    1.0  82000.0  \n",
       "17944                   1.0  81000.0  \n",
       "28851                   1.0  81000.0  \n",
       "33463                   1.0  81000.0  \n",
       "37435                   1.0  81000.0  \n",
       "41358                   1.0  81000.0  \n",
       "59566                   1.0  81000.0  \n",
       "59792                   1.0  81000.0  "
      ]
     },
     "execution_count": 20,
     "metadata": {},
     "output_type": "execute_result"
    }
   ],
   "source": [
    "#all_df[all_df[\"same_build\"]==result_df[result_df[\"same_build\"]==all_df[all_df[\"id\"]==37436]][\"same_build\"].values[0]]\n",
    "\n",
    "all_df[all_df[\"same_build\"]==all_df[all_df[\"id\"]==37436][\"same_build\"].values[0]]"
   ]
  },
  {
   "cell_type": "code",
   "execution_count": 21,
   "metadata": {},
   "outputs": [
    {
     "data": {
      "text/html": [
       "<div>\n",
       "<style scoped>\n",
       "    .dataframe tbody tr th:only-of-type {\n",
       "        vertical-align: middle;\n",
       "    }\n",
       "\n",
       "    .dataframe tbody tr th {\n",
       "        vertical-align: top;\n",
       "    }\n",
       "\n",
       "    .dataframe thead th {\n",
       "        text-align: right;\n",
       "    }\n",
       "</style>\n",
       "<table border=\"1\" class=\"dataframe\">\n",
       "  <thead>\n",
       "    <tr style=\"text-align: right;\">\n",
       "      <th></th>\n",
       "      <th>id</th>\n",
       "      <th>int方角</th>\n",
       "      <th>int面積</th>\n",
       "      <th>living_floor</th>\n",
       "      <th>same_build</th>\n",
       "      <th>キッチン_element_counts</th>\n",
       "      <th>バス・トイレ_element_counts</th>\n",
       "      <th>予測値</th>\n",
       "      <th>室内設備_element_counts</th>\n",
       "      <th>放送・通信_element_counts</th>\n",
       "      <th>賃料</th>\n",
       "    </tr>\n",
       "  </thead>\n",
       "  <tbody>\n",
       "    <tr>\n",
       "      <th>2909</th>\n",
       "      <td>2910</td>\n",
       "      <td>8.0</td>\n",
       "      <td>103</td>\n",
       "      <td>3.0</td>\n",
       "      <td>9南北線\\t麻布十番駅\\t徒歩8分\\t\\t都営大江戸線\\t赤羽橋駅\\t徒歩9分\\t\\t山手線...</td>\n",
       "      <td>7.0</td>\n",
       "      <td>9.0</td>\n",
       "      <td>700000.0</td>\n",
       "      <td>18.0</td>\n",
       "      <td>4.0</td>\n",
       "      <td>700000.0</td>\n",
       "    </tr>\n",
       "    <tr>\n",
       "      <th>5093</th>\n",
       "      <td>5094</td>\n",
       "      <td>4.0</td>\n",
       "      <td>217</td>\n",
       "      <td>9.0</td>\n",
       "      <td>9南北線\\t麻布十番駅\\t徒歩8分\\t\\t都営大江戸線\\t赤羽橋駅\\t徒歩9分\\t\\t山手線...</td>\n",
       "      <td>8.0</td>\n",
       "      <td>10.0</td>\n",
       "      <td>2500000.0</td>\n",
       "      <td>18.0</td>\n",
       "      <td>1.0</td>\n",
       "      <td>2500000.0</td>\n",
       "    </tr>\n",
       "    <tr>\n",
       "      <th>20643</th>\n",
       "      <td>20644</td>\n",
       "      <td>8.0</td>\n",
       "      <td>151</td>\n",
       "      <td>5.0</td>\n",
       "      <td>9南北線\\t麻布十番駅\\t徒歩8分\\t\\t都営大江戸線\\t赤羽橋駅\\t徒歩9分\\t\\t山手線...</td>\n",
       "      <td>6.0</td>\n",
       "      <td>10.0</td>\n",
       "      <td>1800000.0</td>\n",
       "      <td>18.0</td>\n",
       "      <td>1.0</td>\n",
       "      <td>1800000.0</td>\n",
       "    </tr>\n",
       "    <tr>\n",
       "      <th>34293</th>\n",
       "      <td>34294</td>\n",
       "      <td>8.0</td>\n",
       "      <td>151</td>\n",
       "      <td>5.0</td>\n",
       "      <td>9南北線\\t麻布十番駅\\t徒歩8分\\t\\t都営大江戸線\\t赤羽橋駅\\t徒歩9分\\t\\t山手線...</td>\n",
       "      <td>7.0</td>\n",
       "      <td>9.0</td>\n",
       "      <td>NaN</td>\n",
       "      <td>21.0</td>\n",
       "      <td>4.0</td>\n",
       "      <td>1800000.0</td>\n",
       "    </tr>\n",
       "  </tbody>\n",
       "</table>\n",
       "</div>"
      ],
      "text/plain": [
       "          id  int方角  int面積  living_floor  \\\n",
       "2909    2910    8.0    103           3.0   \n",
       "5093    5094    4.0    217           9.0   \n",
       "20643  20644    8.0    151           5.0   \n",
       "34293  34294    8.0    151           5.0   \n",
       "\n",
       "                                              same_build  キッチン_element_counts  \\\n",
       "2909   9南北線\\t麻布十番駅\\t徒歩8分\\t\\t都営大江戸線\\t赤羽橋駅\\t徒歩9分\\t\\t山手線...                  7.0   \n",
       "5093   9南北線\\t麻布十番駅\\t徒歩8分\\t\\t都営大江戸線\\t赤羽橋駅\\t徒歩9分\\t\\t山手線...                  8.0   \n",
       "20643  9南北線\\t麻布十番駅\\t徒歩8分\\t\\t都営大江戸線\\t赤羽橋駅\\t徒歩9分\\t\\t山手線...                  6.0   \n",
       "34293  9南北線\\t麻布十番駅\\t徒歩8分\\t\\t都営大江戸線\\t赤羽橋駅\\t徒歩9分\\t\\t山手線...                  7.0   \n",
       "\n",
       "       バス・トイレ_element_counts        予測値  室内設備_element_counts  \\\n",
       "2909                     9.0   700000.0                 18.0   \n",
       "5093                    10.0  2500000.0                 18.0   \n",
       "20643                   10.0  1800000.0                 18.0   \n",
       "34293                    9.0        NaN                 21.0   \n",
       "\n",
       "       放送・通信_element_counts         賃料  \n",
       "2909                    4.0   700000.0  \n",
       "5093                    1.0  2500000.0  \n",
       "20643                   1.0  1800000.0  \n",
       "34293                   4.0  1800000.0  "
      ]
     },
     "execution_count": 21,
     "metadata": {},
     "output_type": "execute_result"
    }
   ],
   "source": [
    "all_df[all_df[\"same_build\"]==\"9南北線\t麻布十番駅\t徒歩8分\t\t都営大江戸線\t赤羽橋駅\t徒歩9分\t\t山手線\t田町(東京都)駅\t徒歩13分\"]"
   ]
  },
  {
   "cell_type": "code",
   "execution_count": 22,
   "metadata": {},
   "outputs": [
    {
     "data": {
      "text/plain": [
       "<matplotlib.axes._subplots.AxesSubplot at 0x11f2787f0>"
      ]
     },
     "execution_count": 22,
     "metadata": {},
     "output_type": "execute_result"
    },
    {
     "data": {
      "image/png": "[encoded data removed]",
      "text/plain": [
       "<Figure size 432x288 with 1 Axes>"
      ]
     },
     "metadata": {
      "needs_background": "light"
     },
     "output_type": "display_data"
    }
   ],
   "source": [
    "test[test[\"賃料\"]!=0][\"賃料\"].hist(bins = 500)"
   ]
  },
  {
   "cell_type": "code",
   "execution_count": 23,
   "metadata": {},
   "outputs": [
    {
     "data": {
      "text/plain": [
       "361"
      ]
     },
     "execution_count": 23,
     "metadata": {},
     "output_type": "execute_result"
    }
   ],
   "source": [
    "aa"
   ]
  },
  {
   "cell_type": "markdown",
   "metadata": {},
   "source": [
    "# ensemble"
   ]
  },
  {
   "cell_type": "code",
   "execution_count": 24,
   "metadata": {},
   "outputs": [
    {
     "data": {
      "text/html": [
       "<div>\n",
       "<style scoped>\n",
       "    .dataframe tbody tr th:only-of-type {\n",
       "        vertical-align: middle;\n",
       "    }\n",
       "\n",
       "    .dataframe tbody tr th {\n",
       "        vertical-align: top;\n",
       "    }\n",
       "\n",
       "    .dataframe thead th {\n",
       "        text-align: right;\n",
       "    }\n",
       "</style>\n",
       "<table border=\"1\" class=\"dataframe\">\n",
       "  <thead>\n",
       "    <tr style=\"text-align: right;\">\n",
       "      <th></th>\n",
       "      <th>1</th>\n",
       "    </tr>\n",
       "    <tr>\n",
       "      <th>0</th>\n",
       "      <th></th>\n",
       "    </tr>\n",
       "  </thead>\n",
       "  <tbody>\n",
       "    <tr>\n",
       "      <th>31471</th>\n",
       "      <td>128829.064905</td>\n",
       "    </tr>\n",
       "    <tr>\n",
       "      <th>31472</th>\n",
       "      <td>118446.940764</td>\n",
       "    </tr>\n",
       "    <tr>\n",
       "      <th>31473</th>\n",
       "      <td>76697.127097</td>\n",
       "    </tr>\n",
       "  </tbody>\n",
       "</table>\n",
       "</div>"
      ],
      "text/plain": [
       "                   1\n",
       "0                   \n",
       "31471  128829.064905\n",
       "31472  118446.940764\n",
       "31473   76697.127097"
      ]
     },
     "execution_count": 24,
     "metadata": {},
     "output_type": "execute_result"
    }
   ],
   "source": [
    "model = pd.read_csv('../output/exp0_+address_poisson_word_out2_people_num7+ekiuserate_kyori_NOmeta/exp0_+address_poisson_word_out2_people_num7+ekiuserate_kyori_NOmeta.csv', header=None)\n",
    "model = model.set_index(0)\n",
    "model.head(3)"
   ]
  },
  {
   "cell_type": "code",
   "execution_count": 25,
   "metadata": {},
   "outputs": [
    {
     "data": {
      "text/plain": [
       "31471    111000.0\n",
       "31481     51000.0\n",
       "31484    101000.0\n",
       "31487    547000.0\n",
       "31502     50000.0\n",
       "           ...   \n",
       "62700     89000.0\n",
       "62702    104000.0\n",
       "62706     86000.0\n",
       "62720    120000.0\n",
       "62723    166000.0\n",
       "Name: 賃料, Length: 5929, dtype: float64"
      ]
     },
     "execution_count": 25,
     "metadata": {},
     "output_type": "execute_result"
    }
   ],
   "source": [
    "test[test[\"賃料\"]!=0][\"賃料\"]\n",
    "#test.shape"
   ]
  },
  {
   "cell_type": "code",
   "execution_count": 26,
   "metadata": {},
   "outputs": [],
   "source": [
    "try:\n",
    "    test = test.set_index(\"id\")\n",
    "except:\n",
    "    pass"
   ]
  },
  {
   "cell_type": "code",
   "execution_count": 27,
   "metadata": {},
   "outputs": [],
   "source": [
    "ensemble = pd.DataFrame()\n",
    "ensemble[\"id\"] = model.index\n",
    "ensemble[\"賃料\"] = np.where(test[\"賃料\"]!=0, test[\"賃料\"], model[1])"
   ]
  },
  {
   "cell_type": "code",
   "execution_count": 28,
   "metadata": {},
   "outputs": [
    {
     "data": {
      "text/plain": [
       "28918603.41252455"
      ]
     },
     "execution_count": 28,
     "metadata": {},
     "output_type": "execute_result"
    }
   ],
   "source": [
    "sum(abs(ensemble[\"賃料\"].values - model[1].values))\n",
    "#ensemble[\"賃料\"].values - model[1].values)"
   ]
  },
  {
   "cell_type": "code",
   "execution_count": 30,
   "metadata": {},
   "outputs": [],
   "source": [
    "ensemble = ensemble.reset_index(drop=True)\n",
    "ensemble.to_csv('ensemble_linear.csv', index=False, header=None)"
   ]
  },
  {
   "cell_type": "code",
   "execution_count": 31,
   "metadata": {},
   "outputs": [
    {
     "data": {
      "text/html": [
       "<div>\n",
       "<style scoped>\n",
       "    .dataframe tbody tr th:only-of-type {\n",
       "        vertical-align: middle;\n",
       "    }\n",
       "\n",
       "    .dataframe tbody tr th {\n",
       "        vertical-align: top;\n",
       "    }\n",
       "\n",
       "    .dataframe thead th {\n",
       "        text-align: right;\n",
       "    }\n",
       "</style>\n",
       "<table border=\"1\" class=\"dataframe\">\n",
       "  <thead>\n",
       "    <tr style=\"text-align: right;\">\n",
       "      <th></th>\n",
       "      <th>id</th>\n",
       "      <th>賃料</th>\n",
       "    </tr>\n",
       "  </thead>\n",
       "  <tbody>\n",
       "    <tr>\n",
       "      <th>2823</th>\n",
       "      <td>34294</td>\n",
       "      <td>1800000.0</td>\n",
       "    </tr>\n",
       "  </tbody>\n",
       "</table>\n",
       "</div>"
      ],
      "text/plain": [
       "         id         賃料\n",
       "2823  34294  1800000.0"
      ]
     },
     "execution_count": 31,
     "metadata": {},
     "output_type": "execute_result"
    }
   ],
   "source": [
    "ensemble[ensemble[\"賃料\"] == ensemble[\"賃料\"].max()]"
   ]
  },
  {
   "cell_type": "code",
   "execution_count": 32,
   "metadata": {},
   "outputs": [
    {
     "data": {
      "text/plain": [
       "<matplotlib.axes._subplots.AxesSubplot at 0x12141ae10>"
      ]
     },
     "execution_count": 32,
     "metadata": {},
     "output_type": "execute_result"
    },
    {
     "data": {
      "image/png": "[encoded data removed]",
      "text/plain": [
       "<Figure size 432x288 with 1 Axes>"
      ]
     },
     "metadata": {
      "needs_background": "light"
     },
     "output_type": "display_data"
    }
   ],
   "source": [
    "ensemble[\"賃料\"].hist(bins=150)"
   ]
  },
  {
   "cell_type": "code",
   "execution_count": 33,
   "metadata": {},
   "outputs": [],
   "source": [
    "train_model = pd.read_csv('../output/exp0_+address_poisson_word_out2_people_num7+ekiuserate_kyori_NOmeta/yoof_and_target.csv')\n",
    "\n",
    "ridged = np.where(train[\"予測値\"]>0, train[\"予測値\"], train_model[\"exp0_+address_poisson_word_out2_people_num7+ekiuserate_kyori_NOmeta\"])"
   ]
  },
  {
   "cell_type": "code",
   "execution_count": 34,
   "metadata": {},
   "outputs": [],
   "source": [
    "train_model[\"exp0_+address_poisson_word_out2_people_num7+ekiuserate_kyori_NOmeta\"] = ridged"
   ]
  },
  {
   "cell_type": "code",
   "execution_count": 36,
   "metadata": {},
   "outputs": [],
   "source": [
    "train_model.columns = ['賃料', 'ensemble_linear']"
   ]
  },
  {
   "cell_type": "code",
   "execution_count": 37,
   "metadata": {},
   "outputs": [],
   "source": [
    "train_model.to_csv(\"../output/vs_trains/ensemble_linear.csv\", index=False)"
   ]
  },
  {
   "cell_type": "code",
   "execution_count": null,
   "metadata": {},
   "outputs": [],
   "source": []
  }
 ],
 "metadata": {
  "kernelspec": {
   "display_name": "Python 3",
   "language": "python",
   "name": "python3"
  },
  "language_info": {
   "codemirror_mode": {
    "name": "ipython",
    "version": 3
   },
   "file_extension": ".py",
   "mimetype": "text/x-python",
   "name": "python",
   "nbconvert_exporter": "python",
   "pygments_lexer": "ipython3",
   "version": "3.6.5"
  }
 },
 "nbformat": 4,
 "nbformat_minor": 4
}
